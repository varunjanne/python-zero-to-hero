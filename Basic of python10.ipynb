{
 "cells": [
  {
   "cell_type": "markdown",
   "id": "e503b6e4",
   "metadata": {},
   "source": [
    "# Variable creation"
   ]
  },
  {
   "cell_type": "markdown",
   "id": "9384cc4b",
   "metadata": {},
   "source": [
    "## correct way of creating a variable"
   ]
  },
  {
   "cell_type": "markdown",
   "id": "870c97b5",
   "metadata": {},
   "source": [
    "--> start variable name by alphabets only\n",
    "--> use the underscore to separate the words\n",
    "--> use number after the word"
   ]
  },
  {
   "cell_type": "markdown",
   "id": "c61aba17",
   "metadata": {},
   "source": [
    "Example"
   ]
  },
  {
   "cell_type": "code",
   "execution_count": null,
   "id": "e276371c",
   "metadata": {},
   "outputs": [],
   "source": [
    "var = 10\n",
    "var1 = 20\n",
    "var_num = 30"
   ]
  },
  {
   "cell_type": "markdown",
   "id": "b13b60a8",
   "metadata": {},
   "source": [
    "# Incorrect way of creating variable"
   ]
  },
  {
   "cell_type": "code",
   "execution_count": null,
   "id": "0ed633df",
   "metadata": {},
   "outputs": [],
   "source": [
    "--> any special char/ number should not be used 1st.\n",
    "--> no spaces used between the word\n",
    "--> variable name should not be the keywords\n",
    "--> case sensitive [a, A] different."
   ]
  },
  {
   "cell_type": "markdown",
   "id": "f321d094",
   "metadata": {},
   "source": [
    "Example"
   ]
  },
  {
   "cell_type": "code",
   "execution_count": null,
   "id": "7621d7bc",
   "metadata": {},
   "outputs": [],
   "source": [
    "@var = 10, #var = 20\n",
    "var 10 = 10\n",
    "1 var = 10\n",
    "var num = 20\n",
    "class = 30"
   ]
  },
  {
   "cell_type": "code",
   "execution_count": null,
   "id": "46f87e66",
   "metadata": {},
   "outputs": [],
   "source": [
    "import keyword\n",
    "print(keyword.kwlist)"
   ]
  },
  {
   "cell_type": "markdown",
   "id": "3563802d",
   "metadata": {},
   "source": [
    "# Data types"
   ]
  },
  {
   "cell_type": "markdown",
   "id": "36d486ee",
   "metadata": {},
   "source": [
    "integer-->int\n",
    "floating --> float\n",
    "char--> str\n",
    "complex type --> complex\n",
    "boolean --> bool\n",
    "none type --> None\n",
    "object_type --> object"
   ]
  },
  {
   "cell_type": "code",
   "execution_count": null,
   "id": "e6157cc2",
   "metadata": {},
   "outputs": [],
   "source": [
    "dir() # --> list of all created variables "
   ]
  },
  {
   "cell_type": "code",
   "execution_count": null,
   "id": "e2c39b6d",
   "metadata": {},
   "outputs": [],
   "source": [
    "## integer class\n",
    "num = 15\n",
    "print(num)"
   ]
  },
  {
   "cell_type": "code",
   "execution_count": null,
   "id": "d961cf8c",
   "metadata": {},
   "outputs": [],
   "source": [
    "type(num)"
   ]
  },
  {
   "cell_type": "code",
   "execution_count": null,
   "id": "bba9a85b",
   "metadata": {},
   "outputs": [],
   "source": [
    "print(type(num))"
   ]
  },
  {
   "cell_type": "code",
   "execution_count": null,
   "id": "962bd1bd",
   "metadata": {},
   "outputs": [],
   "source": [
    "## floating data type\n",
    "marks = 50.6\n",
    "print(marks)\n",
    "print(type(marks))"
   ]
  },
  {
   "cell_type": "code",
   "execution_count": null,
   "id": "003c1a08",
   "metadata": {},
   "outputs": [],
   "source": [
    "## complex datatype\n",
    "cmpl = 10j + 20\n",
    "print(cmpl)\n",
    "print(type(cmpl))"
   ]
  },
  {
   "cell_type": "code",
   "execution_count": 1,
   "id": "bf60f5e7",
   "metadata": {},
   "outputs": [
    {
     "name": "stdout",
     "output_type": "stream",
     "text": [
      "Excelr\n",
      "<class 'str'>\n"
     ]
    }
   ],
   "source": [
    "## string datatype for single word\n",
    "name = 'Excelr'\n",
    "print(name)\n",
    "print(type(name))"
   ]
  },
  {
   "cell_type": "code",
   "execution_count": 2,
   "id": "6fb89043",
   "metadata": {},
   "outputs": [
    {
     "name": "stdout",
     "output_type": "stream",
     "text": [
      "we are studying's data science\n",
      "<class 'str'>\n"
     ]
    }
   ],
   "source": [
    "## string datatype for statment\n",
    "data_sciece = \"we are studying's data science\"\n",
    "print(data_sciece)\n",
    "print(type(data_sciece))"
   ]
  },
  {
   "cell_type": "code",
   "execution_count": 3,
   "id": "c744756e",
   "metadata": {},
   "outputs": [
    {
     "name": "stdout",
     "output_type": "stream",
     "text": [
      "List\n",
      "                    Tuple\n",
      "                     Set\n",
      "                     Dictionary\n",
      "<class 'str'>\n"
     ]
    }
   ],
   "source": [
    "## string datatype for paragraph\n",
    "Data_structure = '''List\n",
    "                    Tuple\n",
    "                     Set\n",
    "                     Dictionary'''\n",
    "print(Data_structure)\n",
    "print(type(Data_structure))"
   ]
  },
  {
   "cell_type": "code",
   "execution_count": null,
   "id": "f84e874b",
   "metadata": {},
   "outputs": [],
   "source": [
    "# boolean type of data\n",
    "value = False\n",
    "print(value)\n",
    "print(type(value))\n",
    "\n",
    "valueT = True\n",
    "print(valueT)\n",
    "print(type(valueT))"
   ]
  },
  {
   "cell_type": "code",
   "execution_count": null,
   "id": "5697fba3",
   "metadata": {},
   "outputs": [],
   "source": [
    "# none type\n",
    "variable = None\n",
    "print(variable)\n",
    "print(type(variable))"
   ]
  },
  {
   "cell_type": "code",
   "execution_count": null,
   "id": "0821fcd9",
   "metadata": {},
   "outputs": [],
   "source": [
    "# object type of data\n",
    "Object_type = object # [int, float, str, complex]\n",
    "print(Object_type)\n",
    "print(type(Object_type))"
   ]
  },
  {
   "cell_type": "code",
   "execution_count": null,
   "id": "95809b90",
   "metadata": {},
   "outputs": [],
   "source": [
    "import datetime as dt\n",
    "date = dt.datetime(2024,5,30)"
   ]
  },
  {
   "cell_type": "code",
   "execution_count": null,
   "id": "0e8f83c9",
   "metadata": {},
   "outputs": [],
   "source": [
    "print(date)\n",
    "print(type(date))"
   ]
  },
  {
   "cell_type": "code",
   "execution_count": null,
   "id": "172f27f6",
   "metadata": {},
   "outputs": [],
   "source": []
  },
  {
   "cell_type": "markdown",
   "id": "dab1ce67",
   "metadata": {},
   "source": [
    "# string manipulation "
   ]
  },
  {
   "cell_type": "code",
   "execution_count": 7,
   "id": "38d6931c",
   "metadata": {},
   "outputs": [],
   "source": [
    "name = 'excelr'"
   ]
  },
  {
   "cell_type": "code",
   "execution_count": 8,
   "id": "b23a820b",
   "metadata": {},
   "outputs": [
    {
     "data": {
      "text/plain": [
       "('Excelr', 'excelr', 'excelr', 'EXCELR', 'EXCELR')"
      ]
     },
     "execution_count": 8,
     "metadata": {},
     "output_type": "execute_result"
    }
   ],
   "source": [
    "# string manipulation \n",
    "name.capitalize(), name.casefold(),name.lower(), name.upper(), name.swapcase()"
   ]
  },
  {
   "cell_type": "code",
   "execution_count": 10,
   "id": "73c430b5",
   "metadata": {
    "collapsed": true
   },
   "outputs": [
    {
     "data": {
      "text/plain": [
       "(True, True)"
      ]
     },
     "execution_count": 10,
     "metadata": {},
     "output_type": "execute_result"
    }
   ],
   "source": [
    "name.endswith('r'),name.startswith('e')"
   ]
  },
  {
   "cell_type": "code",
   "execution_count": 11,
   "id": "e3ce842b",
   "metadata": {
    "collapsed": true
   },
   "outputs": [
    {
     "data": {
      "text/plain": [
       "'excelr'"
      ]
     },
     "execution_count": 11,
     "metadata": {},
     "output_type": "execute_result"
    }
   ],
   "source": [
    "name"
   ]
  },
  {
   "cell_type": "code",
   "execution_count": 12,
   "id": "611fbe2d",
   "metadata": {},
   "outputs": [
    {
     "data": {
      "text/plain": [
       "(True, True, True, False, False)"
      ]
     },
     "execution_count": 12,
     "metadata": {},
     "output_type": "execute_result"
    }
   ],
   "source": [
    "name.isalnum(),name.isalpha(),name.isascii(),name.isdecimal(),name.isdigit()"
   ]
  },
  {
   "cell_type": "code",
   "execution_count": 13,
   "id": "25631868",
   "metadata": {},
   "outputs": [
    {
     "data": {
      "text/plain": [
       "(True, False, False, False)"
      ]
     },
     "execution_count": 13,
     "metadata": {},
     "output_type": "execute_result"
    }
   ],
   "source": [
    "name.islower(),name.isnumeric(),name.isupper(),name.istitle()"
   ]
  },
  {
   "cell_type": "code",
   "execution_count": 14,
   "id": "6a274cd1",
   "metadata": {},
   "outputs": [
    {
     "data": {
      "text/plain": [
       "'List\\n                    Tuple\\n                     Set\\n                     Dictionary'"
      ]
     },
     "execution_count": 14,
     "metadata": {},
     "output_type": "execute_result"
    }
   ],
   "source": [
    "Data_structure"
   ]
  },
  {
   "cell_type": "code",
   "execution_count": 15,
   "id": "860b446a",
   "metadata": {},
   "outputs": [
    {
     "data": {
      "text/plain": [
       "True"
      ]
     },
     "execution_count": 15,
     "metadata": {},
     "output_type": "execute_result"
    }
   ],
   "source": [
    "Data_structure.istitle()"
   ]
  },
  {
   "cell_type": "code",
   "execution_count": 16,
   "id": "4409f328",
   "metadata": {},
   "outputs": [
    {
     "data": {
      "text/plain": [
       "False"
      ]
     },
     "execution_count": 16,
     "metadata": {},
     "output_type": "execute_result"
    }
   ],
   "source": [
    "data_sciece.istitle()"
   ]
  },
  {
   "cell_type": "code",
   "execution_count": 17,
   "id": "120efd87",
   "metadata": {},
   "outputs": [
    {
     "data": {
      "text/plain": [
       "'excelr'"
      ]
     },
     "execution_count": 17,
     "metadata": {},
     "output_type": "execute_result"
    }
   ],
   "source": [
    "name"
   ]
  },
  {
   "cell_type": "code",
   "execution_count": 24,
   "id": "3382567c",
   "metadata": {},
   "outputs": [
    {
     "data": {
      "text/plain": [
       "('%%%%%excelr%%%%', 'excelr*', ',,,,,,,,,excelr')"
      ]
     },
     "execution_count": 24,
     "metadata": {},
     "output_type": "execute_result"
    }
   ],
   "source": [
    "name.center(15,'%'), name.ljust(7,'*'), name.rjust(15,',')"
   ]
  },
  {
   "cell_type": "code",
   "execution_count": null,
   "id": "6cee54ce",
   "metadata": {},
   "outputs": [],
   "source": [
    "# indexing [0,1,2,3,4,5....]"
   ]
  },
  {
   "cell_type": "code",
   "execution_count": 25,
   "id": "254c9df0",
   "metadata": {},
   "outputs": [
    {
     "data": {
      "text/plain": [
       "'excelr'"
      ]
     },
     "execution_count": 25,
     "metadata": {},
     "output_type": "execute_result"
    }
   ],
   "source": [
    "name"
   ]
  },
  {
   "cell_type": "code",
   "execution_count": 26,
   "id": "d28c9371",
   "metadata": {},
   "outputs": [
    {
     "data": {
      "text/plain": [
       "(2, 0, 0, 3, 3)"
      ]
     },
     "execution_count": 26,
     "metadata": {},
     "output_type": "execute_result"
    }
   ],
   "source": [
    "name.count('e'),name.find('e'),name.index('e'),name.rfind('e'),name.rindex('e')"
   ]
  },
  {
   "cell_type": "code",
   "execution_count": 28,
   "id": "4f5895ff",
   "metadata": {},
   "outputs": [
    {
     "data": {
      "text/plain": [
       "(0, 0)"
      ]
     },
     "execution_count": 28,
     "metadata": {},
     "output_type": "execute_result"
    }
   ],
   "source": [
    "name.find('ex'),name.index('excelr')"
   ]
  },
  {
   "cell_type": "code",
   "execution_count": null,
   "id": "42136f20",
   "metadata": {},
   "outputs": [],
   "source": [
    "# slicing,[start: end: step]"
   ]
  },
  {
   "cell_type": "code",
   "execution_count": 29,
   "id": "b939ba64",
   "metadata": {
    "collapsed": true
   },
   "outputs": [
    {
     "data": {
      "text/plain": [
       "'exce'"
      ]
     },
     "execution_count": 29,
     "metadata": {},
     "output_type": "execute_result"
    }
   ],
   "source": [
    "name[0:4] # starts with o index end with 3rd index"
   ]
  },
  {
   "cell_type": "code",
   "execution_count": 30,
   "id": "c5d8e4c7",
   "metadata": {
    "collapsed": true
   },
   "outputs": [
    {
     "data": {
      "text/plain": [
       "'exce'"
      ]
     },
     "execution_count": 30,
     "metadata": {},
     "output_type": "execute_result"
    }
   ],
   "source": [
    "name[0:4:1]"
   ]
  },
  {
   "cell_type": "code",
   "execution_count": 31,
   "id": "a98a9b75",
   "metadata": {
    "collapsed": true
   },
   "outputs": [
    {
     "data": {
      "text/plain": [
       "'ec'"
      ]
     },
     "execution_count": 31,
     "metadata": {},
     "output_type": "execute_result"
    }
   ],
   "source": [
    "name[0:4:2]"
   ]
  },
  {
   "cell_type": "code",
   "execution_count": 32,
   "id": "4e10ee73",
   "metadata": {
    "collapsed": true
   },
   "outputs": [
    {
     "data": {
      "text/plain": [
       "'xcelr'"
      ]
     },
     "execution_count": 32,
     "metadata": {},
     "output_type": "execute_result"
    }
   ],
   "source": [
    "name[1:]"
   ]
  },
  {
   "cell_type": "code",
   "execution_count": 33,
   "id": "cac7c101",
   "metadata": {
    "collapsed": true
   },
   "outputs": [
    {
     "data": {
      "text/plain": [
       "'excelr'"
      ]
     },
     "execution_count": 33,
     "metadata": {},
     "output_type": "execute_result"
    }
   ],
   "source": [
    "name[0::] # start with 0, and selected all"
   ]
  },
  {
   "cell_type": "code",
   "execution_count": 34,
   "id": "2f16aa06",
   "metadata": {
    "collapsed": true
   },
   "outputs": [
    {
     "data": {
      "text/plain": [
       "('excelr', 'excelr')"
      ]
     },
     "execution_count": 34,
     "metadata": {},
     "output_type": "execute_result"
    }
   ],
   "source": [
    "name[:],name[::] # start with start index and selected all."
   ]
  },
  {
   "cell_type": "code",
   "execution_count": null,
   "id": "e015b681",
   "metadata": {},
   "outputs": [],
   "source": [
    "# negative indexing."
   ]
  },
  {
   "cell_type": "code",
   "execution_count": 35,
   "id": "11591029",
   "metadata": {},
   "outputs": [
    {
     "data": {
      "text/plain": [
       "'excelr'"
      ]
     },
     "execution_count": 35,
     "metadata": {},
     "output_type": "execute_result"
    }
   ],
   "source": [
    "name"
   ]
  },
  {
   "cell_type": "code",
   "execution_count": 37,
   "id": "2367169d",
   "metadata": {},
   "outputs": [
    {
     "data": {
      "text/plain": [
       "'r'"
      ]
     },
     "execution_count": 37,
     "metadata": {},
     "output_type": "execute_result"
    }
   ],
   "source": [
    "name[-1] # selected a last value"
   ]
  },
  {
   "cell_type": "code",
   "execution_count": 38,
   "id": "fabd98ac",
   "metadata": {},
   "outputs": [
    {
     "data": {
      "text/plain": [
       "'rlecxe'"
      ]
     },
     "execution_count": 38,
     "metadata": {},
     "output_type": "execute_result"
    }
   ],
   "source": [
    "name[::-1] # reversing"
   ]
  },
  {
   "cell_type": "code",
   "execution_count": 39,
   "id": "e125871b",
   "metadata": {},
   "outputs": [
    {
     "data": {
      "text/plain": [
       "'ecx'"
      ]
     },
     "execution_count": 39,
     "metadata": {},
     "output_type": "execute_result"
    }
   ],
   "source": [
    "name[3:0:-1]  # choosing a data from left side"
   ]
  },
  {
   "cell_type": "code",
   "execution_count": 40,
   "id": "0b8e3f79",
   "metadata": {},
   "outputs": [
    {
     "data": {
      "text/plain": [
       "''"
      ]
     },
     "execution_count": 40,
     "metadata": {},
     "output_type": "execute_result"
    }
   ],
   "source": [
    "name[0:5:-1] #if index miss matched, it will be empty string."
   ]
  },
  {
   "cell_type": "code",
   "execution_count": null,
   "id": "7c122693",
   "metadata": {},
   "outputs": [],
   "source": [
    "name[-1]"
   ]
  },
  {
   "cell_type": "code",
   "execution_count": 41,
   "id": "cb433f0d",
   "metadata": {},
   "outputs": [
    {
     "data": {
      "text/plain": [
       "'  Excelr   '"
      ]
     },
     "execution_count": 41,
     "metadata": {},
     "output_type": "execute_result"
    }
   ],
   "source": [
    "name = '  Excelr   '\n",
    "name"
   ]
  },
  {
   "cell_type": "code",
   "execution_count": 42,
   "id": "6b313651",
   "metadata": {},
   "outputs": [
    {
     "data": {
      "text/plain": [
       "('Excelr   ', 'Excelr', '  Excelr')"
      ]
     },
     "execution_count": 42,
     "metadata": {},
     "output_type": "execute_result"
    }
   ],
   "source": [
    "# strip: removing the spaces\n",
    "name.lstrip(), name.strip(),name.rstrip()"
   ]
  },
  {
   "cell_type": "code",
   "execution_count": 44,
   "id": "3165c3c6",
   "metadata": {},
   "outputs": [
    {
     "data": {
      "text/plain": [
       "['we', 'are', \"studying's\", 'data', 'science']"
      ]
     },
     "execution_count": 44,
     "metadata": {},
     "output_type": "execute_result"
    }
   ],
   "source": [
    "# split the data for spaces\n",
    "data = \"we are studying's data science\"\n",
    "data.split()"
   ]
  },
  {
   "cell_type": "code",
   "execution_count": 45,
   "id": "7bf0908c",
   "metadata": {
    "collapsed": true
   },
   "outputs": [
    {
     "data": {
      "text/plain": [
       "['we', 'are', \"studying's\", 'data', 'science']"
      ]
     },
     "execution_count": 45,
     "metadata": {},
     "output_type": "execute_result"
    }
   ],
   "source": [
    "# split the data for spaces\n",
    "data = \"we,are,studying's,data,science\"\n",
    "data.split(',')"
   ]
  },
  {
   "cell_type": "code",
   "execution_count": null,
   "id": "41e83838",
   "metadata": {},
   "outputs": [],
   "source": [
    "name.split(),name.splitlines()"
   ]
  },
  {
   "cell_type": "code",
   "execution_count": null,
   "id": "95a2e203",
   "metadata": {},
   "outputs": [],
   "source": [
    "data_sciece.split()"
   ]
  },
  {
   "cell_type": "code",
   "execution_count": 46,
   "id": "4817f58c",
   "metadata": {},
   "outputs": [
    {
     "data": {
      "text/plain": [
       "'List\\n                    Tuple\\n                     Set\\n                     Dictionary'"
      ]
     },
     "execution_count": 46,
     "metadata": {},
     "output_type": "execute_result"
    }
   ],
   "source": [
    "Data_structure"
   ]
  },
  {
   "cell_type": "code",
   "execution_count": 47,
   "id": "a0747bab",
   "metadata": {
    "collapsed": true
   },
   "outputs": [
    {
     "data": {
      "text/plain": [
       "['List',\n",
       " '                    Tuple',\n",
       " '                     Set',\n",
       " '                     Dictionary']"
      ]
     },
     "execution_count": 47,
     "metadata": {},
     "output_type": "execute_result"
    }
   ],
   "source": [
    "Data_structure.splitlines()"
   ]
  },
  {
   "cell_type": "code",
   "execution_count": 48,
   "id": "e002a8e6",
   "metadata": {},
   "outputs": [
    {
     "name": "stdout",
     "output_type": "stream",
     "text": [
      "My age is  26 My weight is  50\n"
     ]
    }
   ],
   "source": [
    "# formating a string\n",
    "age = 26\n",
    "weight = 50\n",
    "print('My age is ',age,'My weight is ',weight)"
   ]
  },
  {
   "cell_type": "code",
   "execution_count": 49,
   "id": "84cfeb67",
   "metadata": {},
   "outputs": [
    {
     "name": "stdout",
     "output_type": "stream",
     "text": [
      "My age is 26, My wieght is 50\n"
     ]
    }
   ],
   "source": [
    "statment = 'My age is {}, My wieght is {}'.format(age,weight)\n",
    "print(statment)"
   ]
  },
  {
   "cell_type": "code",
   "execution_count": 50,
   "id": "39724526",
   "metadata": {},
   "outputs": [
    {
     "name": "stdout",
     "output_type": "stream",
     "text": [
      "My age is 26, My wieght is 50\n"
     ]
    }
   ],
   "source": [
    "statment = f'My age is {age}, My wieght is {weight}'\n",
    "print(statment)"
   ]
  },
  {
   "cell_type": "code",
   "execution_count": null,
   "id": "be2493c4",
   "metadata": {},
   "outputs": [],
   "source": [
    "# input function"
   ]
  },
  {
   "cell_type": "code",
   "execution_count": 51,
   "id": "01c1fa78",
   "metadata": {
    "collapsed": true
   },
   "outputs": [
    {
     "name": "stdout",
     "output_type": "stream",
     "text": [
      "53\n",
      "53\n"
     ]
    }
   ],
   "source": [
    "age = input()\n",
    "print(age)"
   ]
  },
  {
   "cell_type": "code",
   "execution_count": 52,
   "id": "96d9c350",
   "metadata": {
    "collapsed": true
   },
   "outputs": [
    {
     "data": {
      "text/plain": [
       "str"
      ]
     },
     "execution_count": 52,
     "metadata": {},
     "output_type": "execute_result"
    }
   ],
   "source": [
    "type(age)"
   ]
  },
  {
   "cell_type": "code",
   "execution_count": null,
   "id": "e42ecf3c",
   "metadata": {},
   "outputs": [],
   "source": [
    "# type casting # int, float, str, "
   ]
  },
  {
   "cell_type": "code",
   "execution_count": 53,
   "id": "9577541c",
   "metadata": {
    "collapsed": true
   },
   "outputs": [
    {
     "name": "stdout",
     "output_type": "stream",
     "text": [
      "<class 'str'>\n"
     ]
    },
    {
     "data": {
      "text/plain": [
       "int"
      ]
     },
     "execution_count": 53,
     "metadata": {},
     "output_type": "execute_result"
    }
   ],
   "source": [
    "age = '56'\n",
    "print(type(age))\n",
    "age_int = int(age)\n",
    "type(age_int)"
   ]
  },
  {
   "cell_type": "code",
   "execution_count": 54,
   "id": "3886b400",
   "metadata": {
    "collapsed": true
   },
   "outputs": [
    {
     "name": "stdout",
     "output_type": "stream",
     "text": [
      "<class 'str'>\n"
     ]
    },
    {
     "data": {
      "text/plain": [
       "float"
      ]
     },
     "execution_count": 54,
     "metadata": {},
     "output_type": "execute_result"
    }
   ],
   "source": [
    "age = '56.6'\n",
    "print(type(age))\n",
    "age_int = float(age)\n",
    "type(age_int)"
   ]
  },
  {
   "cell_type": "code",
   "execution_count": 55,
   "id": "96f379e5",
   "metadata": {
    "collapsed": true
   },
   "outputs": [
    {
     "name": "stdout",
     "output_type": "stream",
     "text": [
      "<class 'str'>\n"
     ]
    },
    {
     "data": {
      "text/plain": [
       "complex"
      ]
     },
     "execution_count": 55,
     "metadata": {},
     "output_type": "execute_result"
    }
   ],
   "source": [
    "age = '10+5j'\n",
    "print(type(age))\n",
    "age_int = complex(age)\n",
    "type(age_int)"
   ]
  },
  {
   "cell_type": "code",
   "execution_count": 56,
   "id": "b9ec12e5",
   "metadata": {
    "collapsed": true
   },
   "outputs": [
    {
     "name": "stdout",
     "output_type": "stream",
     "text": [
      "<class 'str'>\n",
      "True\n"
     ]
    },
    {
     "data": {
      "text/plain": [
       "bool"
      ]
     },
     "execution_count": 56,
     "metadata": {},
     "output_type": "execute_result"
    }
   ],
   "source": [
    "age = 'True'\n",
    "print(type(age))\n",
    "age_int = bool(age)\n",
    "print(age_int)\n",
    "type(age_int)"
   ]
  },
  {
   "cell_type": "code",
   "execution_count": 59,
   "id": "33b31900",
   "metadata": {},
   "outputs": [],
   "source": [
    "age = 56\n",
    "weight = 80.9\n",
    "bm = 10+9j\n",
    "name = 'data'"
   ]
  },
  {
   "cell_type": "code",
   "execution_count": 60,
   "id": "8f6e566f",
   "metadata": {
    "collapsed": true
   },
   "outputs": [
    {
     "data": {
      "text/plain": [
       "(56.0, (56+0j), '56', True)"
      ]
     },
     "execution_count": 60,
     "metadata": {},
     "output_type": "execute_result"
    }
   ],
   "source": [
    "float(age),complex(age),str(age), bool(age) # possible type conversion for integer"
   ]
  },
  {
   "cell_type": "code",
   "execution_count": 61,
   "id": "f16630ef",
   "metadata": {
    "collapsed": true
   },
   "outputs": [
    {
     "data": {
      "text/plain": [
       "(80, (80.9+0j), '80.9', True)"
      ]
     },
     "execution_count": 61,
     "metadata": {},
     "output_type": "execute_result"
    }
   ],
   "source": [
    "int(weight),complex(weight),str(weight), bool(weight) # possible type conversion for float"
   ]
  },
  {
   "cell_type": "code",
   "execution_count": 64,
   "id": "839d3946",
   "metadata": {
    "collapsed": true
   },
   "outputs": [
    {
     "data": {
      "text/plain": [
       "('(10+9j)', True)"
      ]
     },
     "execution_count": 64,
     "metadata": {},
     "output_type": "execute_result"
    }
   ],
   "source": [
    "str(bm), bool(bm) ## possible type conversion for complex"
   ]
  },
  {
   "cell_type": "code",
   "execution_count": null,
   "id": "54a19e3c",
   "metadata": {},
   "outputs": [],
   "source": [
    "bool(name) ## possible type conversion for string"
   ]
  },
  {
   "cell_type": "code",
   "execution_count": 75,
   "id": "491cda33",
   "metadata": {
    "collapsed": true
   },
   "outputs": [
    {
     "data": {
      "text/plain": [
       "(80.9, (80.9+0j), True)"
      ]
     },
     "execution_count": 75,
     "metadata": {},
     "output_type": "execute_result"
    }
   ],
   "source": [
    "num = '80.9'\n",
    "float(num), complex(num),bool(num)\n",
    "# int(num) # not possible case"
   ]
  },
  {
   "cell_type": "code",
   "execution_count": 70,
   "id": "0fc8b68f",
   "metadata": {
    "collapsed": true
   },
   "outputs": [
    {
     "data": {
      "text/plain": [
       "False"
      ]
     },
     "execution_count": 70,
     "metadata": {},
     "output_type": "execute_result"
    }
   ],
   "source": [
    "d = None\n",
    "bool(d)"
   ]
  },
  {
   "cell_type": "code",
   "execution_count": 71,
   "id": "5281cf24",
   "metadata": {
    "collapsed": true
   },
   "outputs": [
    {
     "data": {
      "text/plain": [
       "False"
      ]
     },
     "execution_count": 71,
     "metadata": {},
     "output_type": "execute_result"
    }
   ],
   "source": [
    "d = 0\n",
    "bool(d)"
   ]
  },
  {
   "cell_type": "code",
   "execution_count": 72,
   "id": "a0bceaa2",
   "metadata": {
    "collapsed": true
   },
   "outputs": [
    {
     "data": {
      "text/plain": [
       "False"
      ]
     },
     "execution_count": 72,
     "metadata": {},
     "output_type": "execute_result"
    }
   ],
   "source": [
    "d = _\n",
    "bool(d)"
   ]
  },
  {
   "cell_type": "code",
   "execution_count": 76,
   "id": "48d401bc",
   "metadata": {
    "collapsed": true
   },
   "outputs": [
    {
     "name": "stdout",
     "output_type": "stream",
     "text": [
      "80\n"
     ]
    }
   ],
   "source": [
    "marks = int(input())"
   ]
  },
  {
   "cell_type": "code",
   "execution_count": 77,
   "id": "4e4cf2d8",
   "metadata": {
    "collapsed": true
   },
   "outputs": [
    {
     "data": {
      "text/plain": [
       "int"
      ]
     },
     "execution_count": 77,
     "metadata": {},
     "output_type": "execute_result"
    }
   ],
   "source": [
    "type(marks)"
   ]
  },
  {
   "cell_type": "code",
   "execution_count": 78,
   "id": "81fe744a",
   "metadata": {
    "collapsed": true
   },
   "outputs": [
    {
     "name": "stdout",
     "output_type": "stream",
     "text": [
      "30.5\n",
      "30.5\n"
     ]
    },
    {
     "data": {
      "text/plain": [
       "float"
      ]
     },
     "execution_count": 78,
     "metadata": {},
     "output_type": "execute_result"
    }
   ],
   "source": [
    "marks = float(input())\n",
    "print(marks)\n",
    "type(marks)"
   ]
  },
  {
   "cell_type": "code",
   "execution_count": null,
   "id": "5912b6c3",
   "metadata": {},
   "outputs": [],
   "source": [
    "2. operators\n",
    "Arthimetic operators:\n",
    "    + add\n",
    "    - sub\n",
    "    * mul\n",
    "    / div\n",
    "    ** power\n",
    "    // floar div\n",
    "    % reminder\n",
    "Logical operators:\n",
    "    and  & \n",
    "    or |\n",
    "    not !\n",
    "Membership operators:\n",
    "    in ,not in\n",
    "    is , is not\n",
    "comparision operators:\n",
    "    equal ==\n",
    "    not equal !=\n",
    "    greater the >, >=\n",
    "    lesser then <,<=\n",
    "increamenting and decreamenting for looping case\n",
    " += increament\n",
    " -= decreament\n",
    " *= multiples\n",
    " /= divesion \n",
    "    "
   ]
  },
  {
   "cell_type": "code",
   "execution_count": 79,
   "id": "be04cba1",
   "metadata": {},
   "outputs": [],
   "source": [
    "a = 10\n",
    "b = 20\n",
    "a, b = 10, 20"
   ]
  },
  {
   "cell_type": "code",
   "execution_count": 80,
   "id": "292d71b0",
   "metadata": {},
   "outputs": [],
   "source": [
    "add = a+b\n",
    "sub = a-b\n",
    "mul = a*b\n",
    "div = a/b\n",
    "power = a **2\n",
    "flr_div = a//b\n",
    "rmdr = a%b"
   ]
  },
  {
   "cell_type": "code",
   "execution_count": 81,
   "id": "a25f2031",
   "metadata": {},
   "outputs": [
    {
     "name": "stdout",
     "output_type": "stream",
     "text": [
      "30 -10 200 0.5 100 0 10\n"
     ]
    }
   ],
   "source": [
    "print(add, sub,mul,div,power,flr_div,rmdr)"
   ]
  },
  {
   "cell_type": "code",
   "execution_count": 83,
   "id": "e8472081",
   "metadata": {
    "collapsed": true
   },
   "outputs": [
    {
     "name": "stdout",
     "output_type": "stream",
     "text": [
      "addition: 30\n",
      "subtraction:-10\n",
      "mulplication:200\n",
      "division:0.5\n",
      "power_a:100\n",
      "floar_div: 0\n",
      "reminder:10\n"
     ]
    }
   ],
   "source": [
    "print(f'addition: {add}\\nsubtraction:{sub}\\nmulplication:{mul}\\ndivision:{div}\\npower_a:{power}\\nfloar_div: {flr_div}\\nreminder:{rmdr}')"
   ]
  },
  {
   "cell_type": "code",
   "execution_count": null,
   "id": "1a44d6c3",
   "metadata": {},
   "outputs": [],
   "source": [
    "# arithemetic operators on diffrent data types."
   ]
  },
  {
   "cell_type": "code",
   "execution_count": 85,
   "id": "ffdeb5f0",
   "metadata": {},
   "outputs": [
    {
     "data": {
      "text/plain": [
       "'10101010101010101010'"
      ]
     },
     "execution_count": 85,
     "metadata": {},
     "output_type": "execute_result"
    }
   ],
   "source": [
    "# * operator can be used for writing multiple times.\n",
    "a = 10\n",
    "b = '10'\n",
    "a*b"
   ]
  },
  {
   "cell_type": "code",
   "execution_count": 87,
   "id": "a5d555a3",
   "metadata": {
    "collapsed": true
   },
   "outputs": [
    {
     "ename": "TypeError",
     "evalue": "unsupported operand type(s) for +: 'float' and 'str'",
     "output_type": "error",
     "traceback": [
      "\u001b[1;31m---------------------------------------------------------------------------\u001b[0m",
      "\u001b[1;31mTypeError\u001b[0m                                 Traceback (most recent call last)",
      "Cell \u001b[1;32mIn[87], line 3\u001b[0m\n\u001b[0;32m      1\u001b[0m a \u001b[38;5;241m=\u001b[39m \u001b[38;5;241m10.3\u001b[39m\n\u001b[0;32m      2\u001b[0m b \u001b[38;5;241m=\u001b[39m \u001b[38;5;124m'\u001b[39m\u001b[38;5;124m10\u001b[39m\u001b[38;5;124m'\u001b[39m\n\u001b[1;32m----> 3\u001b[0m a\u001b[38;5;241m+\u001b[39mb\n",
      "\u001b[1;31mTypeError\u001b[0m: unsupported operand type(s) for +: 'float' and 'str'"
     ]
    }
   ],
   "source": [
    "a = 10.3\n",
    "b = '10'\n",
    "a+b"
   ]
  },
  {
   "cell_type": "code",
   "execution_count": 88,
   "id": "6cb29297",
   "metadata": {},
   "outputs": [
    {
     "data": {
      "text/plain": [
       "'10.310'"
      ]
     },
     "execution_count": 88,
     "metadata": {},
     "output_type": "execute_result"
    }
   ],
   "source": [
    "# + operator can be used for concatination\n",
    "a = '10.3'\n",
    "b = '10'\n",
    "a+b"
   ]
  },
  {
   "cell_type": "markdown",
   "id": "0d0258c8",
   "metadata": {},
   "source": [
    "# Data structures\n",
    "List\n",
    "Tuple\n",
    "Set\n",
    "Dictionary"
   ]
  },
  {
   "cell_type": "code",
   "execution_count": null,
   "id": "70ebfdcd",
   "metadata": {},
   "outputs": [],
   "source": [
    "Creating a list type of data structure,[], list(), values are stored as comma separated."
   ]
  },
  {
   "cell_type": "code",
   "execution_count": 135,
   "id": "6bad97ef",
   "metadata": {},
   "outputs": [
    {
     "name": "stdout",
     "output_type": "stream",
     "text": [
      "[]\n",
      "<class 'list'>\n"
     ]
    }
   ],
   "source": [
    "Alist = []\n",
    "print(Alist)\n",
    "print(type(Alist))"
   ]
  },
  {
   "cell_type": "code",
   "execution_count": 136,
   "id": "239e74cf",
   "metadata": {},
   "outputs": [
    {
     "name": "stdout",
     "output_type": "stream",
     "text": [
      "[]\n",
      "<class 'list'>\n"
     ]
    }
   ],
   "source": [
    "Alist = list()\n",
    "print(Alist)\n",
    "print(type(Alist))"
   ]
  },
  {
   "cell_type": "code",
   "execution_count": 137,
   "id": "5bda16af",
   "metadata": {},
   "outputs": [
    {
     "name": "stdout",
     "output_type": "stream",
     "text": [
      "[10, 15, 19, 18, 20, 30]\n",
      "<class 'list'>\n"
     ]
    }
   ],
   "source": [
    "Blist = [10,15,19,18,20,30]\n",
    "print(Blist)\n",
    "print(type(Blist))"
   ]
  },
  {
   "cell_type": "code",
   "execution_count": 138,
   "id": "61b75abd",
   "metadata": {},
   "outputs": [
    {
     "name": "stdout",
     "output_type": "stream",
     "text": [
      "[10, 19.6, 'name', True, None]\n",
      "<class 'list'>\n"
     ]
    }
   ],
   "source": [
    "Clist = [10,19.6, 'name',True,None]\n",
    "print(Clist)\n",
    "print(type(Clist))"
   ]
  },
  {
   "cell_type": "code",
   "execution_count": 139,
   "id": "04f67f50",
   "metadata": {},
   "outputs": [
    {
     "data": {
      "text/plain": [
       "[10, 15, 19, 18, 20, 30, 10, 15, 19, 18, 20, 30, 10, 15, 19, 18, 20, 30]"
      ]
     },
     "execution_count": 139,
     "metadata": {},
     "output_type": "execute_result"
    }
   ],
   "source": [
    "Blist * 3 # multiple tim"
   ]
  },
  {
   "cell_type": "code",
   "execution_count": 140,
   "id": "7760122b",
   "metadata": {},
   "outputs": [
    {
     "data": {
      "text/plain": [
       "[10, 15, 19, 18, 20, 30, 10, 19.6, 'name', True, None]"
      ]
     },
     "execution_count": 140,
     "metadata": {},
     "output_type": "execute_result"
    }
   ],
   "source": [
    "Blist + Clist # concatination /join"
   ]
  },
  {
   "cell_type": "code",
   "execution_count": 141,
   "id": "cec8f717",
   "metadata": {},
   "outputs": [],
   "source": [
    "# - ,/ operators will not work for list type of data."
   ]
  },
  {
   "cell_type": "code",
   "execution_count": 142,
   "id": "d438b70f",
   "metadata": {},
   "outputs": [
    {
     "data": {
      "text/plain": [
       "(True, True)"
      ]
     },
     "execution_count": 142,
     "metadata": {},
     "output_type": "execute_result"
    }
   ],
   "source": [
    "20 in Blist, 23 not in Blist # membership operators"
   ]
  },
  {
   "cell_type": "code",
   "execution_count": 143,
   "id": "36b95b57",
   "metadata": {},
   "outputs": [
    {
     "data": {
      "text/plain": [
       "(True, True)"
      ]
     },
     "execution_count": 143,
     "metadata": {},
     "output_type": "execute_result"
    }
   ],
   "source": [
    "type(Blist) is list, type(Blist) is not str  # membership operators"
   ]
  },
  {
   "cell_type": "code",
   "execution_count": 144,
   "id": "b3a5bd80",
   "metadata": {},
   "outputs": [],
   "source": [
    "# builtin function for list type of data"
   ]
  },
  {
   "cell_type": "code",
   "execution_count": 145,
   "id": "2b7b597f",
   "metadata": {},
   "outputs": [],
   "source": [
    "age = [25,26,27,28,29,30,45,86,52]"
   ]
  },
  {
   "cell_type": "code",
   "execution_count": 146,
   "id": "d7593f26",
   "metadata": {},
   "outputs": [],
   "source": [
    "# to add a new value to a list\n",
    "age.append(23) # single value"
   ]
  },
  {
   "cell_type": "code",
   "execution_count": 147,
   "id": "82734f3e",
   "metadata": {},
   "outputs": [
    {
     "data": {
      "text/plain": [
       "[25, 26, 27, 28, 29, 30, 45, 86, 52, 23]"
      ]
     },
     "execution_count": 147,
     "metadata": {},
     "output_type": "execute_result"
    }
   ],
   "source": [
    "age"
   ]
  },
  {
   "cell_type": "code",
   "execution_count": 148,
   "id": "a4667238",
   "metadata": {},
   "outputs": [],
   "source": [
    "age.append([26,29])"
   ]
  },
  {
   "cell_type": "code",
   "execution_count": 149,
   "id": "cc64eaab",
   "metadata": {},
   "outputs": [
    {
     "data": {
      "text/plain": [
       "[25, 26, 27, 28, 29, 30, 45, 86, 52, 23, [26, 29]]"
      ]
     },
     "execution_count": 149,
     "metadata": {},
     "output_type": "execute_result"
    }
   ],
   "source": [
    "age"
   ]
  },
  {
   "cell_type": "code",
   "execution_count": 150,
   "id": "2578832c",
   "metadata": {},
   "outputs": [],
   "source": [
    "age.extend([24,25]) # multiple value"
   ]
  },
  {
   "cell_type": "code",
   "execution_count": 111,
   "id": "e5ab0615",
   "metadata": {
    "collapsed": true
   },
   "outputs": [
    {
     "data": {
      "text/plain": [
       "[25, 26, 27, 28, 29, 30, 45, 86, 52, 23, [26, 29], 24, 25]"
      ]
     },
     "execution_count": 111,
     "metadata": {},
     "output_type": "execute_result"
    }
   ],
   "source": [
    "age"
   ]
  },
  {
   "cell_type": "code",
   "execution_count": 112,
   "id": "fa364829",
   "metadata": {},
   "outputs": [],
   "source": [
    "age.insert(0,15)"
   ]
  },
  {
   "cell_type": "code",
   "execution_count": 113,
   "id": "afb96f24",
   "metadata": {},
   "outputs": [
    {
     "data": {
      "text/plain": [
       "[15, 25, 26, 27, 28, 29, 30, 45, 86, 52, 23, [26, 29], 24, 25]"
      ]
     },
     "execution_count": 113,
     "metadata": {},
     "output_type": "execute_result"
    }
   ],
   "source": [
    "age"
   ]
  },
  {
   "cell_type": "code",
   "execution_count": null,
   "id": "7f969baa",
   "metadata": {},
   "outputs": [],
   "source": [
    "# removing a value / "
   ]
  },
  {
   "cell_type": "code",
   "execution_count": 114,
   "id": "86414261",
   "metadata": {
    "collapsed": true
   },
   "outputs": [
    {
     "data": {
      "text/plain": [
       "25"
      ]
     },
     "execution_count": 114,
     "metadata": {},
     "output_type": "execute_result"
    }
   ],
   "source": [
    "age.pop() # last value"
   ]
  },
  {
   "cell_type": "code",
   "execution_count": 115,
   "id": "af5e391b",
   "metadata": {},
   "outputs": [
    {
     "data": {
      "text/plain": [
       "[15, 25, 26, 27, 28, 29, 30, 45, 86, 52, 23, [26, 29], 24]"
      ]
     },
     "execution_count": 115,
     "metadata": {},
     "output_type": "execute_result"
    }
   ],
   "source": [
    "age"
   ]
  },
  {
   "cell_type": "code",
   "execution_count": 116,
   "id": "9426e5d5",
   "metadata": {
    "collapsed": true
   },
   "outputs": [
    {
     "data": {
      "text/plain": [
       "25"
      ]
     },
     "execution_count": 116,
     "metadata": {},
     "output_type": "execute_result"
    }
   ],
   "source": [
    "age.pop(1)"
   ]
  },
  {
   "cell_type": "code",
   "execution_count": 117,
   "id": "00723212",
   "metadata": {
    "collapsed": true
   },
   "outputs": [
    {
     "data": {
      "text/plain": [
       "[15, 26, 27, 28, 29, 30, 45, 86, 52, 23, [26, 29], 24]"
      ]
     },
     "execution_count": 117,
     "metadata": {},
     "output_type": "execute_result"
    }
   ],
   "source": [
    "age"
   ]
  },
  {
   "cell_type": "code",
   "execution_count": 118,
   "id": "d836c2dd",
   "metadata": {},
   "outputs": [],
   "source": [
    "age.remove(86)"
   ]
  },
  {
   "cell_type": "code",
   "execution_count": 119,
   "id": "b08d4198",
   "metadata": {
    "collapsed": true
   },
   "outputs": [
    {
     "data": {
      "text/plain": [
       "[15, 26, 27, 28, 29, 30, 45, 52, 23, [26, 29], 24]"
      ]
     },
     "execution_count": 119,
     "metadata": {},
     "output_type": "execute_result"
    }
   ],
   "source": [
    "age"
   ]
  },
  {
   "cell_type": "code",
   "execution_count": 120,
   "id": "ab271bdf",
   "metadata": {},
   "outputs": [],
   "source": [
    "age.remove([26,29])"
   ]
  },
  {
   "cell_type": "code",
   "execution_count": 121,
   "id": "152fcf6e",
   "metadata": {},
   "outputs": [
    {
     "data": {
      "text/plain": [
       "[15, 26, 27, 28, 29, 30, 45, 52, 23, 24]"
      ]
     },
     "execution_count": 121,
     "metadata": {},
     "output_type": "execute_result"
    }
   ],
   "source": [
    "age"
   ]
  },
  {
   "cell_type": "code",
   "execution_count": null,
   "id": "c15ac97c",
   "metadata": {},
   "outputs": [],
   "source": [
    "Age = age[::-1]"
   ]
  },
  {
   "cell_type": "code",
   "execution_count": null,
   "id": "20664825",
   "metadata": {},
   "outputs": [],
   "source": [
    "Age"
   ]
  },
  {
   "cell_type": "code",
   "execution_count": null,
   "id": "950eb5f2",
   "metadata": {},
   "outputs": [],
   "source": [
    "Age.remove(30)"
   ]
  },
  {
   "cell_type": "code",
   "execution_count": null,
   "id": "80e39289",
   "metadata": {},
   "outputs": [],
   "source": [
    "Age"
   ]
  },
  {
   "cell_type": "code",
   "execution_count": null,
   "id": "8a0bc737",
   "metadata": {},
   "outputs": [],
   "source": [
    "age.clear()"
   ]
  },
  {
   "cell_type": "code",
   "execution_count": null,
   "id": "290aad6d",
   "metadata": {},
   "outputs": [],
   "source": [
    "age"
   ]
  },
  {
   "cell_type": "code",
   "execution_count": 128,
   "id": "8760e042",
   "metadata": {},
   "outputs": [],
   "source": [
    "age = [25,26,27,28,29,30,45,86,52]"
   ]
  },
  {
   "cell_type": "code",
   "execution_count": 123,
   "id": "ce0cddeb",
   "metadata": {},
   "outputs": [],
   "source": [
    "Age = age.copy()"
   ]
  },
  {
   "cell_type": "code",
   "execution_count": 124,
   "id": "5a5d90d0",
   "metadata": {
    "collapsed": true
   },
   "outputs": [
    {
     "data": {
      "text/plain": [
       "[25, 26, 27, 28, 29, 30, 45, 86, 52]"
      ]
     },
     "execution_count": 124,
     "metadata": {},
     "output_type": "execute_result"
    }
   ],
   "source": [
    "Age"
   ]
  },
  {
   "cell_type": "code",
   "execution_count": 134,
   "id": "0352bef7",
   "metadata": {},
   "outputs": [
    {
     "data": {
      "text/plain": [
       "6"
      ]
     },
     "execution_count": 134,
     "metadata": {},
     "output_type": "execute_result"
    }
   ],
   "source": [
    "age.index(27) # index number of given value"
   ]
  },
  {
   "cell_type": "code",
   "execution_count": 126,
   "id": "f9ef64a1",
   "metadata": {},
   "outputs": [],
   "source": [
    "age.reverse()"
   ]
  },
  {
   "cell_type": "code",
   "execution_count": 127,
   "id": "9c2e46eb",
   "metadata": {
    "collapsed": true
   },
   "outputs": [
    {
     "data": {
      "text/plain": [
       "[52, 86, 45, 30, 29, 28, 27, 26, 25]"
      ]
     },
     "execution_count": 127,
     "metadata": {},
     "output_type": "execute_result"
    }
   ],
   "source": [
    "age"
   ]
  },
  {
   "cell_type": "code",
   "execution_count": 129,
   "id": "2df3080e",
   "metadata": {
    "collapsed": true
   },
   "outputs": [
    {
     "data": {
      "text/plain": [
       "[52, 86, 45, 30, 29, 28, 27, 26, 25]"
      ]
     },
     "execution_count": 129,
     "metadata": {},
     "output_type": "execute_result"
    }
   ],
   "source": [
    "age[::-1]"
   ]
  },
  {
   "cell_type": "code",
   "execution_count": 130,
   "id": "28e8fdfa",
   "metadata": {},
   "outputs": [],
   "source": [
    "age.sort() # ascending order"
   ]
  },
  {
   "cell_type": "code",
   "execution_count": 131,
   "id": "f509b3b0",
   "metadata": {
    "collapsed": true
   },
   "outputs": [
    {
     "data": {
      "text/plain": [
       "[25, 26, 27, 28, 29, 30, 45, 52, 86]"
      ]
     },
     "execution_count": 131,
     "metadata": {},
     "output_type": "execute_result"
    }
   ],
   "source": [
    "age"
   ]
  },
  {
   "cell_type": "code",
   "execution_count": 132,
   "id": "ed8475f1",
   "metadata": {},
   "outputs": [],
   "source": [
    "age.sort(reverse=True) # descending order"
   ]
  },
  {
   "cell_type": "code",
   "execution_count": 151,
   "id": "759fd537",
   "metadata": {},
   "outputs": [
    {
     "data": {
      "text/plain": [
       "[25, 26, 27, 28, 29, 30, 45, 86, 52, 23, [26, 29], 24, 25]"
      ]
     },
     "execution_count": 151,
     "metadata": {},
     "output_type": "execute_result"
    }
   ],
   "source": [
    "age"
   ]
  },
  {
   "cell_type": "code",
   "execution_count": null,
   "id": "88589fd1",
   "metadata": {},
   "outputs": [],
   "source": [
    "# indexing and slicing"
   ]
  },
  {
   "cell_type": "code",
   "execution_count": 152,
   "id": "50522997",
   "metadata": {},
   "outputs": [
    {
     "data": {
      "text/plain": [
       "[25, 26, 27, 28, 29, 30, 45, 86, 52, 23, [26, 29], 24, 25]"
      ]
     },
     "execution_count": 152,
     "metadata": {},
     "output_type": "execute_result"
    }
   ],
   "source": [
    "age"
   ]
  },
  {
   "cell_type": "code",
   "execution_count": 153,
   "id": "4a4c9b02",
   "metadata": {},
   "outputs": [
    {
     "data": {
      "text/plain": [
       "25"
      ]
     },
     "execution_count": 153,
     "metadata": {},
     "output_type": "execute_result"
    }
   ],
   "source": [
    "age[0]"
   ]
  },
  {
   "cell_type": "code",
   "execution_count": 154,
   "id": "92987818",
   "metadata": {},
   "outputs": [
    {
     "data": {
      "text/plain": [
       "26"
      ]
     },
     "execution_count": 154,
     "metadata": {},
     "output_type": "execute_result"
    }
   ],
   "source": [
    "age[1]"
   ]
  },
  {
   "cell_type": "code",
   "execution_count": 155,
   "id": "479529d2",
   "metadata": {},
   "outputs": [
    {
     "data": {
      "text/plain": [
       "[25, 26, 27, 28, 29]"
      ]
     },
     "execution_count": 155,
     "metadata": {},
     "output_type": "execute_result"
    }
   ],
   "source": [
    "age[0:5]"
   ]
  },
  {
   "cell_type": "code",
   "execution_count": 156,
   "id": "26d8fda1",
   "metadata": {},
   "outputs": [
    {
     "data": {
      "text/plain": [
       "[30, 29, 28, 27, 26]"
      ]
     },
     "execution_count": 156,
     "metadata": {},
     "output_type": "execute_result"
    }
   ],
   "source": [
    "age[5:0:-1]"
   ]
  },
  {
   "cell_type": "code",
   "execution_count": 157,
   "id": "ef17ef29",
   "metadata": {},
   "outputs": [
    {
     "data": {
      "text/plain": [
       "[25, 27, 29]"
      ]
     },
     "execution_count": 157,
     "metadata": {},
     "output_type": "execute_result"
    }
   ],
   "source": [
    "age[0:6:2]"
   ]
  },
  {
   "cell_type": "code",
   "execution_count": 158,
   "id": "69fcbab4",
   "metadata": {},
   "outputs": [
    {
     "data": {
      "text/plain": [
       "[25, 26, 27, 28, 29, 30, 45, 86, 52, 23, [26, 29], 24, 25]"
      ]
     },
     "execution_count": 158,
     "metadata": {},
     "output_type": "execute_result"
    }
   ],
   "source": [
    "age"
   ]
  },
  {
   "cell_type": "code",
   "execution_count": 159,
   "id": "cef2a461",
   "metadata": {},
   "outputs": [],
   "source": [
    "age[2] = 50"
   ]
  },
  {
   "cell_type": "code",
   "execution_count": 160,
   "id": "5ce43b26",
   "metadata": {},
   "outputs": [
    {
     "data": {
      "text/plain": [
       "[25, 26, 50, 28, 29, 30, 45, 86, 52, 23, [26, 29], 24, 25]"
      ]
     },
     "execution_count": 160,
     "metadata": {},
     "output_type": "execute_result"
    }
   ],
   "source": [
    "age"
   ]
  },
  {
   "cell_type": "code",
   "execution_count": null,
   "id": "01b2013a",
   "metadata": {},
   "outputs": [],
   "source": [
    "# multiple list"
   ]
  },
  {
   "cell_type": "code",
   "execution_count": 171,
   "id": "36abd257",
   "metadata": {},
   "outputs": [
    {
     "data": {
      "text/plain": [
       "1"
      ]
     },
     "execution_count": 171,
     "metadata": {},
     "output_type": "execute_result"
    }
   ],
   "source": [
    "import numpy as np\n",
    "mul_list = np.array([10,20,30])\n",
    "mul_list.ndim"
   ]
  },
  {
   "cell_type": "code",
   "execution_count": 175,
   "id": "6bfb1bf8",
   "metadata": {},
   "outputs": [],
   "source": [
    "import numpy as np\n",
    "mul_list = np.array([[[[10,20,30],\n",
    "                      [10,20,30]]]])"
   ]
  },
  {
   "cell_type": "code",
   "execution_count": 176,
   "id": "ce80c38b",
   "metadata": {
    "collapsed": true
   },
   "outputs": [
    {
     "data": {
      "text/plain": [
       "(1, 1, 2, 3)"
      ]
     },
     "execution_count": 176,
     "metadata": {},
     "output_type": "execute_result"
    }
   ],
   "source": [
    "mul_list.shape"
   ]
  },
  {
   "cell_type": "code",
   "execution_count": 177,
   "id": "217f389d",
   "metadata": {
    "collapsed": true
   },
   "outputs": [
    {
     "data": {
      "text/plain": [
       "4"
      ]
     },
     "execution_count": 177,
     "metadata": {},
     "output_type": "execute_result"
    }
   ],
   "source": [
    "mul_list.ndim"
   ]
  },
  {
   "cell_type": "code",
   "execution_count": 183,
   "id": "f8207603",
   "metadata": {},
   "outputs": [],
   "source": [
    "mul_list[0][0][0][1] = 30"
   ]
  },
  {
   "cell_type": "code",
   "execution_count": 184,
   "id": "ca040d29",
   "metadata": {
    "collapsed": true
   },
   "outputs": [
    {
     "data": {
      "text/plain": [
       "array([[[[10, 30, 30],\n",
       "         [10, 20, 30]]]])"
      ]
     },
     "execution_count": 184,
     "metadata": {},
     "output_type": "execute_result"
    }
   ],
   "source": [
    "mul_list"
   ]
  },
  {
   "cell_type": "code",
   "execution_count": 185,
   "id": "123c0839",
   "metadata": {},
   "outputs": [],
   "source": [
    "mul_list = [[12,30,60],[1,2,3,[4,5,6],[5,6,9,[4,8,9,[0,0,0]]]]]"
   ]
  },
  {
   "cell_type": "code",
   "execution_count": 190,
   "id": "e5886ae1",
   "metadata": {},
   "outputs": [],
   "source": [
    "mul_list[1][4][1] = 7 # 6 --> 7"
   ]
  },
  {
   "cell_type": "code",
   "execution_count": 191,
   "id": "f0297087",
   "metadata": {},
   "outputs": [
    {
     "data": {
      "text/plain": [
       "[[12, 30, 60], [1, 2, 3, [4, 5, 6], [5, 7, 9, [4, 8, 9, [0, 0, 0]]]]]"
      ]
     },
     "execution_count": 191,
     "metadata": {},
     "output_type": "execute_result"
    }
   ],
   "source": [
    "mul_list"
   ]
  },
  {
   "cell_type": "code",
   "execution_count": null,
   "id": "2e78979d",
   "metadata": {},
   "outputs": [],
   "source": [
    "mul_list1 =[[[[10,20,30]],[[15,16],18],[90,60,30]]]"
   ]
  },
  {
   "cell_type": "code",
   "execution_count": null,
   "id": "3a71f50d",
   "metadata": {},
   "outputs": [],
   "source": [
    "mul_list1[0][1][0][1]"
   ]
  },
  {
   "cell_type": "code",
   "execution_count": null,
   "id": "1dd963ae",
   "metadata": {},
   "outputs": [],
   "source": [
    "mul_list1[0][2][2]"
   ]
  },
  {
   "cell_type": "code",
   "execution_count": null,
   "id": "66ffcb54",
   "metadata": {},
   "outputs": [],
   "source": [
    "# python's builtin function"
   ]
  },
  {
   "cell_type": "code",
   "execution_count": null,
   "id": "1c2e9f50",
   "metadata": {},
   "outputs": [],
   "source": [
    "min(),max(),sum(),len(), abs(), round()"
   ]
  },
  {
   "cell_type": "code",
   "execution_count": 192,
   "id": "1ed99abc",
   "metadata": {},
   "outputs": [],
   "source": [
    "marks =[56,58,59,93,63,77]"
   ]
  },
  {
   "cell_type": "code",
   "execution_count": 193,
   "id": "144fda68",
   "metadata": {
    "collapsed": true
   },
   "outputs": [
    {
     "data": {
      "text/plain": [
       "(56, 93, 406, 6, 90)"
      ]
     },
     "execution_count": 193,
     "metadata": {},
     "output_type": "execute_result"
    }
   ],
   "source": [
    "min(marks), max(marks), sum(marks),len(marks),abs(-90)"
   ]
  },
  {
   "cell_type": "code",
   "execution_count": null,
   "id": "c2d40e4a",
   "metadata": {},
   "outputs": [],
   "source": [
    "# average marks"
   ]
  },
  {
   "cell_type": "code",
   "execution_count": 194,
   "id": "1800e5a3",
   "metadata": {
    "collapsed": true
   },
   "outputs": [
    {
     "data": {
      "text/plain": [
       "67.66666666666667"
      ]
     },
     "execution_count": 194,
     "metadata": {},
     "output_type": "execute_result"
    }
   ],
   "source": [
    "avegare_marks = sum(marks)/len(marks)\n",
    "avegare_marks"
   ]
  },
  {
   "cell_type": "code",
   "execution_count": 195,
   "id": "e6c5f614",
   "metadata": {
    "collapsed": true
   },
   "outputs": [
    {
     "data": {
      "text/plain": [
       "68"
      ]
     },
     "execution_count": 195,
     "metadata": {},
     "output_type": "execute_result"
    }
   ],
   "source": [
    "round(avegare_marks)"
   ]
  },
  {
   "cell_type": "code",
   "execution_count": 198,
   "id": "f3566ca8",
   "metadata": {
    "collapsed": true
   },
   "outputs": [
    {
     "data": {
      "text/plain": [
       "67.667"
      ]
     },
     "execution_count": 198,
     "metadata": {},
     "output_type": "execute_result"
    }
   ],
   "source": [
    "round(avegare_marks,3)"
   ]
  },
  {
   "cell_type": "code",
   "execution_count": 199,
   "id": "8efaf188",
   "metadata": {},
   "outputs": [],
   "source": [
    "# calculate average age.\n",
    "students_age = [28, 29, 30, 45, 86, 52, 23, [26, 29], 24, 25]"
   ]
  },
  {
   "cell_type": "code",
   "execution_count": null,
   "id": "3deeb789",
   "metadata": {},
   "outputs": [],
   "source": [
    "# convert the student name in upper case.\n",
    "students_name = ['Prajwal','juhaib','aryan','ram']"
   ]
  },
  {
   "cell_type": "code",
   "execution_count": null,
   "id": "def147ba",
   "metadata": {},
   "outputs": [],
   "source": [
    "students_name[0][0].upper()"
   ]
  },
  {
   "cell_type": "code",
   "execution_count": null,
   "id": "a37f2665",
   "metadata": {},
   "outputs": [],
   "source": [
    "# Tuple : immutable type data structure. \n",
    "cannt update the tuple data\n",
    "cannt assign a new value\n",
    "cannt delet a value from a tuple."
   ]
  },
  {
   "cell_type": "code",
   "execution_count": 200,
   "id": "4706d582",
   "metadata": {},
   "outputs": [],
   "source": [
    "# create tuple data\n",
    "t = tuple()\n",
    "T = 10,20,30,60\n",
    "y = (10,20,30)"
   ]
  },
  {
   "cell_type": "code",
   "execution_count": 201,
   "id": "cb77cb4f",
   "metadata": {
    "collapsed": true
   },
   "outputs": [
    {
     "name": "stdout",
     "output_type": "stream",
     "text": [
      "<class 'tuple'>\n",
      "<class 'tuple'>\n",
      "<class 'tuple'>\n"
     ]
    }
   ],
   "source": [
    "print(type(t))\n",
    "print(type(T))\n",
    "print(type(y))"
   ]
  },
  {
   "cell_type": "code",
   "execution_count": 204,
   "id": "49acdcad",
   "metadata": {
    "collapsed": true
   },
   "outputs": [
    {
     "data": {
      "text/plain": [
       "(1, 2)"
      ]
     },
     "execution_count": 204,
     "metadata": {},
     "output_type": "execute_result"
    }
   ],
   "source": [
    "T.count(10),T.index(30)"
   ]
  },
  {
   "cell_type": "code",
   "execution_count": 205,
   "id": "24900714",
   "metadata": {
    "collapsed": true
   },
   "outputs": [
    {
     "name": "stdout",
     "output_type": "stream",
     "text": [
      "[10, 20, 30, 60, 80]\n",
      "<class 'list'>\n"
     ]
    }
   ],
   "source": [
    "# converting to list\n",
    "List = list(T)\n",
    "List.append(80)\n",
    "print(List)\n",
    "print(type(List))"
   ]
  },
  {
   "cell_type": "code",
   "execution_count": 206,
   "id": "ef76b3f8",
   "metadata": {
    "collapsed": true
   },
   "outputs": [
    {
     "name": "stdout",
     "output_type": "stream",
     "text": [
      "(10, 20, 30, 60, 80)\n",
      "<class 'tuple'>\n"
     ]
    }
   ],
   "source": [
    "T = tuple(List)\n",
    "print(T)\n",
    "print(type(T))"
   ]
  },
  {
   "cell_type": "code",
   "execution_count": null,
   "id": "7181f810",
   "metadata": {},
   "outputs": [],
   "source": [
    "# Set type of data structure.\n",
    "defualt unique + ascending order\n",
    "the data is not on basis of indexing"
   ]
  },
  {
   "cell_type": "code",
   "execution_count": 207,
   "id": "1ee9e29c",
   "metadata": {
    "collapsed": true
   },
   "outputs": [
    {
     "name": "stdout",
     "output_type": "stream",
     "text": [
      "{10, 20, 30}\n",
      "set()\n",
      "<class 'set'> <class 'set'>\n"
     ]
    }
   ],
   "source": [
    "#create a set type of data\n",
    "S = {10,20,30}\n",
    "R = set()\n",
    "print(S)\n",
    "print(R)\n",
    "print(type(S),type(R))"
   ]
  },
  {
   "cell_type": "code",
   "execution_count": 225,
   "id": "698178ac",
   "metadata": {},
   "outputs": [
    {
     "name": "stdout",
     "output_type": "stream",
     "text": [
      "{80, 50, 20, 10, 60, 30}\n"
     ]
    }
   ],
   "source": [
    "Set1 = {10,20,20,30,30,50,60,10,20,80}\n",
    "print(Set1)"
   ]
  },
  {
   "cell_type": "code",
   "execution_count": 226,
   "id": "1dc0d834",
   "metadata": {},
   "outputs": [
    {
     "data": {
      "text/plain": [
       "{10, 20, 30, 50, 60, 80}"
      ]
     },
     "execution_count": 226,
     "metadata": {},
     "output_type": "execute_result"
    }
   ],
   "source": [
    "Set1"
   ]
  },
  {
   "cell_type": "code",
   "execution_count": 212,
   "id": "bf136220",
   "metadata": {
    "collapsed": true
   },
   "outputs": [
    {
     "name": "stdout",
     "output_type": "stream",
     "text": [
      "{50, 20, 10, 60, 30}\n"
     ]
    }
   ],
   "source": [
    "Set2 = {10,20,30,50,60,10,20}\n",
    "print(Set2)"
   ]
  },
  {
   "cell_type": "code",
   "execution_count": 213,
   "id": "876b96e5",
   "metadata": {},
   "outputs": [
    {
     "data": {
      "text/plain": [
       "({10, 20, 30, 50, 60, 80}, {10, 20, 30, 50, 60})"
      ]
     },
     "execution_count": 213,
     "metadata": {},
     "output_type": "execute_result"
    }
   ],
   "source": [
    "Set1, Set2"
   ]
  },
  {
   "cell_type": "code",
   "execution_count": 216,
   "id": "0a3d251b",
   "metadata": {},
   "outputs": [],
   "source": [
    "Set1.add(19)"
   ]
  },
  {
   "cell_type": "code",
   "execution_count": 217,
   "id": "997dc6a1",
   "metadata": {
    "collapsed": true
   },
   "outputs": [
    {
     "data": {
      "text/plain": [
       "{10, 19, 20, 30, 50, 60, 80}"
      ]
     },
     "execution_count": 217,
     "metadata": {},
     "output_type": "execute_result"
    }
   ],
   "source": [
    "Set1"
   ]
  },
  {
   "cell_type": "code",
   "execution_count": 218,
   "id": "21e39b9e",
   "metadata": {},
   "outputs": [],
   "source": [
    "Set1.update({104,105})"
   ]
  },
  {
   "cell_type": "code",
   "execution_count": 219,
   "id": "e1eafd20",
   "metadata": {
    "collapsed": true
   },
   "outputs": [
    {
     "data": {
      "text/plain": [
       "{10, 19, 20, 30, 50, 60, 80, 104, 105}"
      ]
     },
     "execution_count": 219,
     "metadata": {},
     "output_type": "execute_result"
    }
   ],
   "source": [
    "Set1"
   ]
  },
  {
   "cell_type": "code",
   "execution_count": 221,
   "id": "cdd2a1a6",
   "metadata": {
    "collapsed": true
   },
   "outputs": [
    {
     "data": {
      "text/plain": [
       "105"
      ]
     },
     "execution_count": 221,
     "metadata": {},
     "output_type": "execute_result"
    }
   ],
   "source": [
    "Set1.pop()"
   ]
  },
  {
   "cell_type": "code",
   "execution_count": 222,
   "id": "fbfae2e9",
   "metadata": {
    "collapsed": true
   },
   "outputs": [
    {
     "data": {
      "text/plain": [
       "{10, 19, 20, 30, 50, 60, 80}"
      ]
     },
     "execution_count": 222,
     "metadata": {},
     "output_type": "execute_result"
    }
   ],
   "source": [
    "Set1"
   ]
  },
  {
   "cell_type": "code",
   "execution_count": 223,
   "id": "37634742",
   "metadata": {},
   "outputs": [],
   "source": [
    "Set1.remove(60)"
   ]
  },
  {
   "cell_type": "code",
   "execution_count": 224,
   "id": "741bb671",
   "metadata": {},
   "outputs": [
    {
     "data": {
      "text/plain": [
       "{10, 19, 20, 30, 50, 80}"
      ]
     },
     "execution_count": 224,
     "metadata": {},
     "output_type": "execute_result"
    }
   ],
   "source": [
    "Set1"
   ]
  },
  {
   "cell_type": "code",
   "execution_count": 233,
   "id": "3d069e9e",
   "metadata": {},
   "outputs": [],
   "source": [
    "name1 = {'Prajwal','juhaib','aryan','ram','pyarellall','aryan','ram','pyarellall'}\n",
    "name2 = {'aryan','ram','pyarellall','binit','venkatesh','tej','rajshri','tanuja'}"
   ]
  },
  {
   "cell_type": "code",
   "execution_count": 228,
   "id": "7110bac0",
   "metadata": {
    "collapsed": true
   },
   "outputs": [
    {
     "data": {
      "text/plain": [
       "({'Prajwal', 'aryan', 'juhaib', 'pyarellall', 'ram'},\n",
       " {'aryan',\n",
       "  'binit',\n",
       "  'pyarellall',\n",
       "  'rajshri',\n",
       "  'ram',\n",
       "  'tanuja',\n",
       "  'tej',\n",
       "  'venkatesh'})"
      ]
     },
     "execution_count": 228,
     "metadata": {},
     "output_type": "execute_result"
    }
   ],
   "source": [
    "name1,name2"
   ]
  },
  {
   "cell_type": "code",
   "execution_count": 229,
   "id": "6fbd13f9",
   "metadata": {
    "collapsed": true
   },
   "outputs": [
    {
     "data": {
      "text/plain": [
       "{'Prajwal',\n",
       " 'aryan',\n",
       " 'binit',\n",
       " 'juhaib',\n",
       " 'pyarellall',\n",
       " 'rajshri',\n",
       " 'ram',\n",
       " 'tanuja',\n",
       " 'tej',\n",
       " 'venkatesh'}"
      ]
     },
     "execution_count": 229,
     "metadata": {},
     "output_type": "execute_result"
    }
   ],
   "source": [
    "name1.union(name2)"
   ]
  },
  {
   "cell_type": "code",
   "execution_count": 230,
   "id": "11681b2c",
   "metadata": {},
   "outputs": [
    {
     "data": {
      "text/plain": [
       "{'Prajwal', 'juhaib'}"
      ]
     },
     "execution_count": 230,
     "metadata": {},
     "output_type": "execute_result"
    }
   ],
   "source": [
    "name1.difference(name2)"
   ]
  },
  {
   "cell_type": "code",
   "execution_count": 234,
   "id": "84033bfa",
   "metadata": {
    "collapsed": true
   },
   "outputs": [
    {
     "data": {
      "text/plain": [
       "{'binit', 'rajshri', 'tanuja', 'tej', 'venkatesh'}"
      ]
     },
     "execution_count": 234,
     "metadata": {},
     "output_type": "execute_result"
    }
   ],
   "source": [
    "name2.difference(name1)"
   ]
  },
  {
   "cell_type": "code",
   "execution_count": 235,
   "id": "eaf5ea6e",
   "metadata": {
    "collapsed": true
   },
   "outputs": [
    {
     "data": {
      "text/plain": [
       "{'aryan', 'pyarellall', 'ram'}"
      ]
     },
     "execution_count": 235,
     "metadata": {},
     "output_type": "execute_result"
    }
   ],
   "source": [
    "name1.intersection(name2)"
   ]
  },
  {
   "cell_type": "code",
   "execution_count": 236,
   "id": "37697982",
   "metadata": {
    "collapsed": true
   },
   "outputs": [
    {
     "data": {
      "text/plain": [
       "{'aryan', 'pyarellall', 'ram'}"
      ]
     },
     "execution_count": 236,
     "metadata": {},
     "output_type": "execute_result"
    }
   ],
   "source": [
    "name2.intersection(name1)"
   ]
  },
  {
   "cell_type": "code",
   "execution_count": 237,
   "id": "eb7c8e65",
   "metadata": {},
   "outputs": [
    {
     "data": {
      "text/plain": [
       "{'Prajwal', 'binit', 'juhaib', 'rajshri', 'tanuja', 'tej', 'venkatesh'}"
      ]
     },
     "execution_count": 237,
     "metadata": {},
     "output_type": "execute_result"
    }
   ],
   "source": [
    "name1.symmetric_difference(name2)"
   ]
  },
  {
   "cell_type": "code",
   "execution_count": 238,
   "id": "f652ce86",
   "metadata": {
    "collapsed": true
   },
   "outputs": [
    {
     "data": {
      "text/plain": [
       "({'Prajwal', 'aryan', 'juhaib', 'pyarellall', 'ram'},\n",
       " {'aryan',\n",
       "  'binit',\n",
       "  'pyarellall',\n",
       "  'rajshri',\n",
       "  'ram',\n",
       "  'tanuja',\n",
       "  'tej',\n",
       "  'venkatesh'})"
      ]
     },
     "execution_count": 238,
     "metadata": {},
     "output_type": "execute_result"
    }
   ],
   "source": [
    "name1, name2"
   ]
  },
  {
   "cell_type": "code",
   "execution_count": 239,
   "id": "faf86e4a",
   "metadata": {},
   "outputs": [],
   "source": [
    "name1.difference_update(name2)"
   ]
  },
  {
   "cell_type": "code",
   "execution_count": 240,
   "id": "63e03102",
   "metadata": {
    "collapsed": true
   },
   "outputs": [
    {
     "data": {
      "text/plain": [
       "({'Prajwal', 'juhaib'},\n",
       " {'aryan',\n",
       "  'binit',\n",
       "  'pyarellall',\n",
       "  'rajshri',\n",
       "  'ram',\n",
       "  'tanuja',\n",
       "  'tej',\n",
       "  'venkatesh'})"
      ]
     },
     "execution_count": 240,
     "metadata": {},
     "output_type": "execute_result"
    }
   ],
   "source": [
    "name1, name2"
   ]
  },
  {
   "cell_type": "code",
   "execution_count": 241,
   "id": "35b01fcf",
   "metadata": {},
   "outputs": [
    {
     "data": {
      "text/plain": [
       "set()"
      ]
     },
     "execution_count": 241,
     "metadata": {},
     "output_type": "execute_result"
    }
   ],
   "source": [
    "name1.intersection(name2)"
   ]
  },
  {
   "cell_type": "code",
   "execution_count": 242,
   "id": "4a22b729",
   "metadata": {},
   "outputs": [],
   "source": [
    "name1.intersection_update(name2)"
   ]
  },
  {
   "cell_type": "code",
   "execution_count": 243,
   "id": "1db52497",
   "metadata": {
    "collapsed": true
   },
   "outputs": [
    {
     "data": {
      "text/plain": [
       "(set(),\n",
       " {'aryan',\n",
       "  'binit',\n",
       "  'pyarellall',\n",
       "  'rajshri',\n",
       "  'ram',\n",
       "  'tanuja',\n",
       "  'tej',\n",
       "  'venkatesh'})"
      ]
     },
     "execution_count": 243,
     "metadata": {},
     "output_type": "execute_result"
    }
   ],
   "source": [
    "name1, name2"
   ]
  },
  {
   "cell_type": "code",
   "execution_count": 244,
   "id": "db492b31",
   "metadata": {
    "collapsed": true
   },
   "outputs": [
    {
     "data": {
      "text/plain": [
       "{'aryan',\n",
       " 'binit',\n",
       " 'pyarellall',\n",
       " 'rajshri',\n",
       " 'ram',\n",
       " 'tanuja',\n",
       " 'tej',\n",
       " 'venkatesh'}"
      ]
     },
     "execution_count": 244,
     "metadata": {},
     "output_type": "execute_result"
    }
   ],
   "source": [
    "name1.symmetric_difference(name2)"
   ]
  },
  {
   "cell_type": "code",
   "execution_count": 245,
   "id": "a63b30d5",
   "metadata": {},
   "outputs": [],
   "source": [
    "name1.symmetric_difference_update(name2)"
   ]
  },
  {
   "cell_type": "code",
   "execution_count": 247,
   "id": "9337907f",
   "metadata": {
    "collapsed": true
   },
   "outputs": [
    {
     "data": {
      "text/plain": [
       "({'aryan',\n",
       "  'binit',\n",
       "  'pyarellall',\n",
       "  'rajshri',\n",
       "  'ram',\n",
       "  'tanuja',\n",
       "  'tej',\n",
       "  'venkatesh'},\n",
       " {'aryan',\n",
       "  'binit',\n",
       "  'pyarellall',\n",
       "  'rajshri',\n",
       "  'ram',\n",
       "  'tanuja',\n",
       "  'tej',\n",
       "  'venkatesh'})"
      ]
     },
     "execution_count": 247,
     "metadata": {},
     "output_type": "execute_result"
    }
   ],
   "source": [
    "name1,name2"
   ]
  },
  {
   "cell_type": "code",
   "execution_count": 249,
   "id": "46e11dfe",
   "metadata": {},
   "outputs": [],
   "source": [
    "A = {1,2,3,4,5,6,7,8,9,10}\n",
    "B = {1,2,3,4,8,9,10}"
   ]
  },
  {
   "cell_type": "code",
   "execution_count": 250,
   "id": "06a87df1",
   "metadata": {},
   "outputs": [
    {
     "data": {
      "text/plain": [
       "(True, True)"
      ]
     },
     "execution_count": 250,
     "metadata": {},
     "output_type": "execute_result"
    }
   ],
   "source": [
    "B.issubset(A),A.issuperset(B)"
   ]
  },
  {
   "cell_type": "code",
   "execution_count": 251,
   "id": "02832e0b",
   "metadata": {},
   "outputs": [
    {
     "data": {
      "text/plain": [
       "(False, False)"
      ]
     },
     "execution_count": 251,
     "metadata": {},
     "output_type": "execute_result"
    }
   ],
   "source": [
    "B.issuperset(A),A.issubset(B)"
   ]
  },
  {
   "cell_type": "markdown",
   "id": "29194aa1",
   "metadata": {},
   "source": [
    "# Dictionary"
   ]
  },
  {
   "cell_type": "code",
   "execution_count": null,
   "id": "720b1357",
   "metadata": {},
   "outputs": [],
   "source": [
    "# Dictionary: (key: value) pairs, comma sepatrated.\n",
    "{},{'key':values},   "
   ]
  },
  {
   "cell_type": "code",
   "execution_count": 252,
   "id": "9b05e379",
   "metadata": {
    "collapsed": true
   },
   "outputs": [
    {
     "data": {
      "text/plain": [
       "dict"
      ]
     },
     "execution_count": 252,
     "metadata": {},
     "output_type": "execute_result"
    }
   ],
   "source": [
    "Dict1 = {}\n",
    "type(Dict1)"
   ]
  },
  {
   "cell_type": "code",
   "execution_count": 253,
   "id": "aaf3184f",
   "metadata": {
    "collapsed": true
   },
   "outputs": [
    {
     "data": {
      "text/plain": [
       "dict"
      ]
     },
     "execution_count": 253,
     "metadata": {},
     "output_type": "execute_result"
    }
   ],
   "source": [
    "Dict1 = {'key1':1,\n",
    "        'key2':2,\n",
    "        'key3':3,\n",
    "        'key4':4}\n",
    "type(Dict1)"
   ]
  },
  {
   "cell_type": "code",
   "execution_count": 256,
   "id": "5a159e94",
   "metadata": {},
   "outputs": [
    {
     "data": {
      "text/plain": [
       "dict"
      ]
     },
     "execution_count": 256,
     "metadata": {},
     "output_type": "execute_result"
    }
   ],
   "source": [
    "Dict2 = {1:10,\n",
    "        2:'excler',\n",
    "        3:True,\n",
    "        4:20.3}\n",
    "type(Dict2)"
   ]
  },
  {
   "cell_type": "code",
   "execution_count": 257,
   "id": "c1fe39f4",
   "metadata": {
    "collapsed": true
   },
   "outputs": [
    {
     "name": "stdout",
     "output_type": "stream",
     "text": [
      "{'key1': 1, 'key2': 2, 'key3': 3, 'key4': 4}\n"
     ]
    }
   ],
   "source": [
    "print(Dict1)"
   ]
  },
  {
   "cell_type": "code",
   "execution_count": 262,
   "id": "22c42101",
   "metadata": {
    "collapsed": true
   },
   "outputs": [
    {
     "data": {
      "text/plain": [
       "(1, 1)"
      ]
     },
     "execution_count": 262,
     "metadata": {},
     "output_type": "execute_result"
    }
   ],
   "source": [
    "Dict1['key1'], Dict1.get('key1')"
   ]
  },
  {
   "cell_type": "code",
   "execution_count": 264,
   "id": "e5cc0400",
   "metadata": {
    "collapsed": true
   },
   "outputs": [
    {
     "data": {
      "text/plain": [
       "(dict_keys(['key1', 'key2', 'key3', 'key4']), dict_values([1, 2, 3, 4]))"
      ]
     },
     "execution_count": 264,
     "metadata": {},
     "output_type": "execute_result"
    }
   ],
   "source": [
    "Dict1.keys(),Dict1.values()"
   ]
  },
  {
   "cell_type": "code",
   "execution_count": 265,
   "id": "fae4446e",
   "metadata": {
    "collapsed": true
   },
   "outputs": [
    {
     "data": {
      "text/plain": [
       "dict_items([('key1', 1), ('key2', 2), ('key3', 3), ('key4', 4)])"
      ]
     },
     "execution_count": 265,
     "metadata": {},
     "output_type": "execute_result"
    }
   ],
   "source": [
    "Dict1.items()"
   ]
  },
  {
   "cell_type": "code",
   "execution_count": null,
   "id": "def11eb6",
   "metadata": {},
   "outputs": [],
   "source": [
    "Dict2[3]"
   ]
  },
  {
   "cell_type": "code",
   "execution_count": null,
   "id": "24a509b4",
   "metadata": {},
   "outputs": [],
   "source": [
    "Dict1.get('key1')"
   ]
  },
  {
   "cell_type": "code",
   "execution_count": null,
   "id": "1e6ad449",
   "metadata": {},
   "outputs": [],
   "source": [
    "Dict1.keys()"
   ]
  },
  {
   "cell_type": "code",
   "execution_count": null,
   "id": "00057c5d",
   "metadata": {},
   "outputs": [],
   "source": [
    "Dict1.values()"
   ]
  },
  {
   "cell_type": "code",
   "execution_count": null,
   "id": "2c6989f8",
   "metadata": {},
   "outputs": [],
   "source": [
    "Dict1.items()"
   ]
  },
  {
   "cell_type": "code",
   "execution_count": 267,
   "id": "6ed31324",
   "metadata": {
    "collapsed": true
   },
   "outputs": [
    {
     "data": {
      "text/plain": [
       "1"
      ]
     },
     "execution_count": 267,
     "metadata": {},
     "output_type": "execute_result"
    }
   ],
   "source": [
    "Dict1.pop('key1')"
   ]
  },
  {
   "cell_type": "code",
   "execution_count": 268,
   "id": "f417c57d",
   "metadata": {
    "collapsed": true
   },
   "outputs": [
    {
     "data": {
      "text/plain": [
       "('key4', 4)"
      ]
     },
     "execution_count": 268,
     "metadata": {},
     "output_type": "execute_result"
    }
   ],
   "source": [
    "Dict1.popitem()"
   ]
  },
  {
   "cell_type": "code",
   "execution_count": 269,
   "id": "6243cd1e",
   "metadata": {
    "collapsed": true
   },
   "outputs": [
    {
     "data": {
      "text/plain": [
       "dict_items([('key2', 2), ('key3', 3)])"
      ]
     },
     "execution_count": 269,
     "metadata": {},
     "output_type": "execute_result"
    }
   ],
   "source": [
    "Dict1.items()"
   ]
  },
  {
   "cell_type": "code",
   "execution_count": 270,
   "id": "a8fe64a4",
   "metadata": {},
   "outputs": [],
   "source": [
    "Dict1.update({'key1': 1})"
   ]
  },
  {
   "cell_type": "code",
   "execution_count": 271,
   "id": "ba685a54",
   "metadata": {
    "collapsed": true
   },
   "outputs": [
    {
     "data": {
      "text/plain": [
       "{'key2': 2, 'key3': 3, 'key1': 1}"
      ]
     },
     "execution_count": 271,
     "metadata": {},
     "output_type": "execute_result"
    }
   ],
   "source": [
    "Dict1"
   ]
  },
  {
   "cell_type": "code",
   "execution_count": 273,
   "id": "9b6a7d8d",
   "metadata": {},
   "outputs": [],
   "source": [
    "student_info = {'name':'Prajwal',\n",
    "               'age': 26,\n",
    "               'course': ['DS','DA','AWS'],\n",
    "               'marks':[80,90,60]}"
   ]
  },
  {
   "cell_type": "code",
   "execution_count": 274,
   "id": "cf0e9cf3",
   "metadata": {},
   "outputs": [
    {
     "data": {
      "text/plain": [
       "dict"
      ]
     },
     "execution_count": 274,
     "metadata": {},
     "output_type": "execute_result"
    }
   ],
   "source": [
    "type(student_info)"
   ]
  },
  {
   "cell_type": "code",
   "execution_count": 275,
   "id": "04318555",
   "metadata": {},
   "outputs": [
    {
     "data": {
      "text/plain": [
       "'Prajwal'"
      ]
     },
     "execution_count": 275,
     "metadata": {},
     "output_type": "execute_result"
    }
   ],
   "source": [
    "student_info['name']"
   ]
  },
  {
   "cell_type": "code",
   "execution_count": 276,
   "id": "37505734",
   "metadata": {},
   "outputs": [],
   "source": [
    "student_info['name'] = 'Ram'"
   ]
  },
  {
   "cell_type": "code",
   "execution_count": 277,
   "id": "938728fd",
   "metadata": {
    "collapsed": true
   },
   "outputs": [
    {
     "data": {
      "text/plain": [
       "{'name': 'Ram',\n",
       " 'age': 26,\n",
       " 'course': ['DS', 'DA', 'AWS'],\n",
       " 'marks': [80, 90, 60]}"
      ]
     },
     "execution_count": 277,
     "metadata": {},
     "output_type": "execute_result"
    }
   ],
   "source": [
    "student_info"
   ]
  },
  {
   "cell_type": "code",
   "execution_count": 285,
   "id": "8e45c9a5",
   "metadata": {},
   "outputs": [],
   "source": [
    "student_info['course'][2] = 'ML'"
   ]
  },
  {
   "cell_type": "code",
   "execution_count": 286,
   "id": "54547bac",
   "metadata": {},
   "outputs": [
    {
     "data": {
      "text/plain": [
       "{'name': 'Ram', 'age': 26, 'course': ['DS', 'DA', 'ML'], 'marks': [80, 90, 60]}"
      ]
     },
     "execution_count": 286,
     "metadata": {},
     "output_type": "execute_result"
    }
   ],
   "source": [
    "student_info"
   ]
  },
  {
   "cell_type": "code",
   "execution_count": 288,
   "id": "73ab5e3b",
   "metadata": {},
   "outputs": [],
   "source": [
    "student_info['course'].append('AWS')"
   ]
  },
  {
   "cell_type": "code",
   "execution_count": 289,
   "id": "e24290e7",
   "metadata": {
    "collapsed": true
   },
   "outputs": [
    {
     "data": {
      "text/plain": [
       "{'name': 'Ram',\n",
       " 'age': 26,\n",
       " 'course': ['DS', 'DA', 'ML', 'AWS'],\n",
       " 'marks': [80, 90, 60]}"
      ]
     },
     "execution_count": 289,
     "metadata": {},
     "output_type": "execute_result"
    }
   ],
   "source": [
    "student_info"
   ]
  },
  {
   "cell_type": "code",
   "execution_count": 290,
   "id": "09bc9259",
   "metadata": {},
   "outputs": [],
   "source": [
    "student_info['marks'].append(85)"
   ]
  },
  {
   "cell_type": "code",
   "execution_count": 291,
   "id": "62ab7dc8",
   "metadata": {
    "collapsed": true
   },
   "outputs": [
    {
     "data": {
      "text/plain": [
       "{'name': 'Ram',\n",
       " 'age': 26,\n",
       " 'course': ['DS', 'DA', 'ML', 'AWS'],\n",
       " 'marks': [80, 90, 60, 85]}"
      ]
     },
     "execution_count": 291,
     "metadata": {},
     "output_type": "execute_result"
    }
   ],
   "source": [
    "student_info"
   ]
  },
  {
   "cell_type": "markdown",
   "id": "33a33e18",
   "metadata": {},
   "source": [
    "# calculate the average marks"
   ]
  },
  {
   "cell_type": "code",
   "execution_count": 292,
   "id": "bc2f463d",
   "metadata": {},
   "outputs": [
    {
     "data": {
      "text/plain": [
       "[80, 90, 60, 85]"
      ]
     },
     "execution_count": 292,
     "metadata": {},
     "output_type": "execute_result"
    }
   ],
   "source": [
    "student_info['marks']"
   ]
  },
  {
   "cell_type": "code",
   "execution_count": 293,
   "id": "098ada8f",
   "metadata": {},
   "outputs": [],
   "source": [
    "avg_marks = sum(student_info['marks'])/len(student_info['marks'])"
   ]
  },
  {
   "cell_type": "code",
   "execution_count": 294,
   "id": "35f49419",
   "metadata": {},
   "outputs": [
    {
     "data": {
      "text/plain": [
       "78.75"
      ]
     },
     "execution_count": 294,
     "metadata": {},
     "output_type": "execute_result"
    }
   ],
   "source": [
    "avg_marks"
   ]
  },
  {
   "cell_type": "code",
   "execution_count": 330,
   "id": "0238fe13",
   "metadata": {},
   "outputs": [],
   "source": [
    "students_details = [ {'name': 'Ram',\n",
    "                     'age': 30,\n",
    "                     'course': ['DS', 'Stat', 'AWS'],\n",
    "                     'marks': [80, 90, 60]},\n",
    "                    \n",
    "                     {'name': 'Sam',\n",
    "                     'age': 37,\n",
    "                     'course': ['DS', 'Stat', 'AWS'],\n",
    "                     'marks': [80, 95, 69]}\n",
    "                ]"
   ]
  },
  {
   "cell_type": "code",
   "execution_count": 300,
   "id": "46a55b7c",
   "metadata": {},
   "outputs": [],
   "source": [
    "students = {'st1':{'name': 'Ram',\n",
    "                     'age': 30,\n",
    "                     'course': ['DS', 'Stat', 'AWS'],\n",
    "                     'marks': [80, 90, 60]},\n",
    "            \n",
    "            'st2':{'name': 'Sam',\n",
    "                     'age': 37,\n",
    "                     'course': ['DS', 'Stat', 'AWS'],\n",
    "                     'marks': [80, 95, 69]}\n",
    "           }\n",
    "                "
   ]
  },
  {
   "cell_type": "code",
   "execution_count": 303,
   "id": "eab2cc2c",
   "metadata": {},
   "outputs": [
    {
     "data": {
      "text/plain": [
       "'Sam'"
      ]
     },
     "execution_count": 303,
     "metadata": {},
     "output_type": "execute_result"
    }
   ],
   "source": [
    "students['st2']['name']"
   ]
  },
  {
   "cell_type": "code",
   "execution_count": null,
   "id": "4fc03424",
   "metadata": {},
   "outputs": [],
   "source": []
  },
  {
   "cell_type": "code",
   "execution_count": 299,
   "id": "bc1d1d6d",
   "metadata": {},
   "outputs": [
    {
     "data": {
      "text/plain": [
       "{'name': 'Sam',\n",
       " 'age': 37,\n",
       " 'course': ['DS', 'Stat', 'AWS'],\n",
       " 'marks': [80, 95, 69]}"
      ]
     },
     "execution_count": 299,
     "metadata": {},
     "output_type": "execute_result"
    }
   ],
   "source": [
    "students_details[1]"
   ]
  },
  {
   "cell_type": "code",
   "execution_count": null,
   "id": "1abb7820",
   "metadata": {},
   "outputs": [],
   "source": [
    "# conditional statements\n",
    "if\n",
    "if else\n",
    "if elif else\n",
    "if ternory operator\n",
    "nested if statements"
   ]
  },
  {
   "cell_type": "code",
   "execution_count": null,
   "id": "c67c042a",
   "metadata": {},
   "outputs": [],
   "source": [
    "# sytax for if statements\n",
    "if condition:\n",
    "    statements \n",
    "    \n",
    "# syntax for else statements\n",
    "\n",
    "if condition:\n",
    "    statements\n",
    "else:\n",
    "    statements\n",
    "        \n",
    "# syntax for elif statements\n",
    "if condition1:\n",
    "    statements\n",
    "elif condition2:\n",
    "    statements\n",
    "elif condition3:\n",
    "    statements\n",
    "else:\n",
    "    statements    "
   ]
  },
  {
   "cell_type": "code",
   "execution_count": 304,
   "id": "0822200b",
   "metadata": {},
   "outputs": [],
   "source": [
    "a = 10\n",
    "b = 20"
   ]
  },
  {
   "cell_type": "code",
   "execution_count": 305,
   "id": "32b97806",
   "metadata": {},
   "outputs": [
    {
     "data": {
      "text/plain": [
       "(False, True, False, False, True, True)"
      ]
     },
     "execution_count": 305,
     "metadata": {},
     "output_type": "execute_result"
    }
   ],
   "source": [
    "a == b, a!=b, a>b, a>=b,a<b,a<=b"
   ]
  },
  {
   "cell_type": "code",
   "execution_count": 306,
   "id": "eea74058",
   "metadata": {},
   "outputs": [
    {
     "name": "stdout",
     "output_type": "stream",
     "text": [
      "a is not equal to b\n"
     ]
    }
   ],
   "source": [
    "if a != b:\n",
    "    print('a is not equal to b')"
   ]
  },
  {
   "cell_type": "code",
   "execution_count": 309,
   "id": "731ca296",
   "metadata": {},
   "outputs": [
    {
     "name": "stdout",
     "output_type": "stream",
     "text": [
      "a is not greater then  to b\n"
     ]
    }
   ],
   "source": [
    "if a <= b:\n",
    "    print('a is not greater then  to b')"
   ]
  },
  {
   "cell_type": "code",
   "execution_count": 307,
   "id": "5aa66052",
   "metadata": {},
   "outputs": [],
   "source": [
    "if a == b:\n",
    "    print('a is not equal to b')"
   ]
  },
  {
   "cell_type": "code",
   "execution_count": 308,
   "id": "5782f1a9",
   "metadata": {},
   "outputs": [],
   "source": [
    "if a >= b:\n",
    "    print('a is not greater then  to b')"
   ]
  },
  {
   "cell_type": "code",
   "execution_count": 310,
   "id": "dc8bfb98",
   "metadata": {},
   "outputs": [
    {
     "name": "stdout",
     "output_type": "stream",
     "text": [
      "Enter your age: 26\n",
      "The given age is in integer\n"
     ]
    }
   ],
   "source": [
    "age = int(input('Enter your age: '))\n",
    "if type(age) == int:\n",
    "    print('The given age is in integer')"
   ]
  },
  {
   "cell_type": "code",
   "execution_count": 312,
   "id": "1e7ebc33",
   "metadata": {},
   "outputs": [
    {
     "name": "stdout",
     "output_type": "stream",
     "text": [
      "Enter your age: 20\n",
      "The age is eligible for voting\n"
     ]
    }
   ],
   "source": [
    "age = int(input('Enter your age: '))\n",
    "if age >= 18:\n",
    "    print('The age is eligible for voting')"
   ]
  },
  {
   "cell_type": "code",
   "execution_count": 314,
   "id": "a0a0905f",
   "metadata": {},
   "outputs": [
    {
     "name": "stdout",
     "output_type": "stream",
     "text": [
      "Enter your age: 3\n"
     ]
    }
   ],
   "source": [
    "#check the given number is even. [0,2,4,6,,,,, ]\n",
    "num = int(input('Enter your age: '))\n",
    "if num%2 ==0:\n",
    "    print('The given number is even')"
   ]
  },
  {
   "cell_type": "code",
   "execution_count": 318,
   "id": "1cae5d24",
   "metadata": {},
   "outputs": [
    {
     "name": "stdout",
     "output_type": "stream",
     "text": [
      "Enter your age: 23\n",
      "The given age is in integer and eligible for voting \n"
     ]
    }
   ],
   "source": [
    "age = int(input('Enter your age: '))\n",
    "if type(age) == int and age>=18:\n",
    "    print('The given age is in integer and eligible for voting ')"
   ]
  },
  {
   "cell_type": "code",
   "execution_count": 319,
   "id": "6924d990",
   "metadata": {},
   "outputs": [
    {
     "data": {
      "text/plain": [
       "(10, 20)"
      ]
     },
     "execution_count": 319,
     "metadata": {},
     "output_type": "execute_result"
    }
   ],
   "source": [
    "a,b"
   ]
  },
  {
   "cell_type": "code",
   "execution_count": 321,
   "id": "043673bb",
   "metadata": {},
   "outputs": [
    {
     "data": {
      "text/plain": [
       "False"
      ]
     },
     "execution_count": 321,
     "metadata": {},
     "output_type": "execute_result"
    }
   ],
   "source": [
    "a == 10 and  b==20 and  b < 10"
   ]
  },
  {
   "cell_type": "code",
   "execution_count": null,
   "id": "8b40e4cb",
   "metadata": {},
   "outputs": [],
   "source": [
    "a != 10 and  b==20"
   ]
  },
  {
   "cell_type": "code",
   "execution_count": null,
   "id": "b79346f0",
   "metadata": {},
   "outputs": [],
   "source": [
    "if a != 10 and  b==20:\n",
    "    print('a is not greater then  to b')"
   ]
  },
  {
   "cell_type": "code",
   "execution_count": null,
   "id": "2c82df55",
   "metadata": {},
   "outputs": [],
   "source": [
    "a == 10 and  b==20"
   ]
  },
  {
   "cell_type": "code",
   "execution_count": null,
   "id": "ec2a05f7",
   "metadata": {},
   "outputs": [],
   "source": [
    "if a == 10 and  b==20:\n",
    "    print('a is not greater then  to b')"
   ]
  },
  {
   "cell_type": "code",
   "execution_count": 324,
   "id": "7b876c4a",
   "metadata": {},
   "outputs": [
    {
     "data": {
      "text/plain": [
       "True"
      ]
     },
     "execution_count": 324,
     "metadata": {},
     "output_type": "execute_result"
    }
   ],
   "source": [
    "a != 10 or  b==20"
   ]
  },
  {
   "cell_type": "code",
   "execution_count": 325,
   "id": "1db27c3b",
   "metadata": {},
   "outputs": [
    {
     "name": "stdout",
     "output_type": "stream",
     "text": [
      "a is not greater then  to b\n"
     ]
    }
   ],
   "source": [
    "if a == 10 or  b==20:\n",
    "    print('a is not greater then  to b')"
   ]
  },
  {
   "cell_type": "code",
   "execution_count": 326,
   "id": "c769580d",
   "metadata": {},
   "outputs": [],
   "source": [
    "if not a==10:\n",
    "    print(' a is equal to b')"
   ]
  },
  {
   "cell_type": "code",
   "execution_count": 327,
   "id": "86db7172",
   "metadata": {},
   "outputs": [
    {
     "name": "stdout",
     "output_type": "stream",
     "text": [
      " a is equal to 10\n"
     ]
    }
   ],
   "source": [
    "if not a!=10:\n",
    "    print(' a is equal to 10')"
   ]
  },
  {
   "cell_type": "code",
   "execution_count": 328,
   "id": "a65b25de",
   "metadata": {},
   "outputs": [
    {
     "name": "stdout",
     "output_type": "stream",
     "text": [
      " a is equal to 10\n"
     ]
    }
   ],
   "source": [
    "if not a!=10 and not b!=20:\n",
    "    print(' a is equal to 10')"
   ]
  },
  {
   "cell_type": "code",
   "execution_count": null,
   "id": "95fb6d60",
   "metadata": {},
   "outputs": [],
   "source": [
    "age = int(input('Enter your age: '))\n",
    "if age >= 18:\n",
    "    print('You are eligible for voting.')\n",
    "else:\n",
    "    print('you are not eligible for voting.')"
   ]
  },
  {
   "cell_type": "code",
   "execution_count": null,
   "id": "74f05ba0",
   "metadata": {},
   "outputs": [],
   "source": [
    "age = int(input('Enter your age: '))\n",
    "gender = input('Enter your gender type: ')\n",
    "if age >= 18 and gender == 'male':\n",
    "    print('You are eligible for voting in the male booth.')\n",
    "else:\n",
    "    print('you are not eligible for voting.')"
   ]
  },
  {
   "cell_type": "code",
   "execution_count": null,
   "id": "1b2185b8",
   "metadata": {},
   "outputs": [],
   "source": [
    "age >= 18 and (gender == 'male' or gender =='female')"
   ]
  },
  {
   "cell_type": "code",
   "execution_count": null,
   "id": "349d4594",
   "metadata": {},
   "outputs": [],
   "source": [
    "age = int(input('Enter your age: '))\n",
    "gender = input('Enter your gender type: ')\n",
    "if age >= 18 and (gender == 'male' or gender =='female'):\n",
    "    print('You are eligible for voting')\n",
    "else:\n",
    "    print('you are not eligible for voting.')"
   ]
  },
  {
   "cell_type": "code",
   "execution_count": null,
   "id": "13c645f1",
   "metadata": {},
   "outputs": [],
   "source": [
    "# Task1: check the given user input value is divisible are not.\n",
    "\n",
    "# Task2: Check the given number is even or odd.\n"
   ]
  },
  {
   "cell_type": "code",
   "execution_count": null,
   "id": "ea0bdd45",
   "metadata": {},
   "outputs": [],
   "source": [
    "avg_st1 = round(sum(students_details[0]['marks'])/len(students_details[0]['marks']),2)\n",
    "avg_st1"
   ]
  },
  {
   "cell_type": "code",
   "execution_count": null,
   "id": "0caa99cd",
   "metadata": {},
   "outputs": [],
   "source": [
    "if avg_st1 >=90:\n",
    "    grade = 'A grade'\n",
    "    print(avg_st1,grade, sep='-->')\n",
    "elif avg_st1 <90 and avg_st1 >=70:\n",
    "    grade = 'B grade'\n",
    "    print(avg_st1,grade, sep='-->')\n",
    "elif avg_st1 < 70 and avg_st1 >=50:\n",
    "    grade = 'C grade'\n",
    "    print(avg_st1,grade, sep='-->')\n",
    "elif avg_st1 < 50 and avg_st1 >=35:\n",
    "    grade = 'D grade'\n",
    "    print(avg_st1,grade, sep='-->')\n",
    "else:\n",
    "    grade = 'Fail'\n",
    "    print(avg_st1,grade, sep='-->') "
   ]
  },
  {
   "cell_type": "code",
   "execution_count": null,
   "id": "7e0e69d6",
   "metadata": {},
   "outputs": [],
   "source": [
    "# nested if else statements\""
   ]
  },
  {
   "cell_type": "code",
   "execution_count": null,
   "id": "ef6e6976",
   "metadata": {},
   "outputs": [],
   "source": [
    "students_details"
   ]
  },
  {
   "cell_type": "code",
   "execution_count": null,
   "id": "c33ad1af",
   "metadata": {},
   "outputs": [],
   "source": [
    "'DS' in students_details[0]['course']"
   ]
  },
  {
   "cell_type": "code",
   "execution_count": null,
   "id": "048f0d69",
   "metadata": {},
   "outputs": [],
   "source": [
    "if 'DS' in students_details[0]['course']:\n",
    "    if students_details[0]['name'] == 'Ram':\n",
    "        print('The ram candidate is taken DS session')\n",
    "    else:\n",
    "        print('Ram is not taken the DS session')\n",
    "else:\n",
    "    print('ds is not in the courses')"
   ]
  },
  {
   "cell_type": "code",
   "execution_count": null,
   "id": "65fd51cc",
   "metadata": {},
   "outputs": [],
   "source": [
    "students_height = [['Prajwal','juhaib','aryan','ram','pyarellall','binit','venkatesh','tej','rajshri','tanuja','akankshya','sandhya'],\n",
    "                   [5.5,5.6,5.9,5.8,5.7,5.9,6.5,6.8,7.1,6.3,6.4,6.6,6.4]]\n",
    "check the names as in terms of string, and hieght interms of float, if it is true calculate the average height.\n",
    "check for min and max hieght too.\n"
   ]
  },
  {
   "cell_type": "code",
   "execution_count": null,
   "id": "d1f5b758",
   "metadata": {},
   "outputs": [],
   "source": [
    "# ternory operator\n",
    "age = int(input('Enter your age: '))\n",
    "if age >= 18:\n",
    "    print('You are eligible for voting.')\n",
    "else:\n",
    "    print('you are not eligible for voting.')"
   ]
  },
  {
   "cell_type": "code",
   "execution_count": null,
   "id": "1ab87335",
   "metadata": {},
   "outputs": [],
   "source": [
    "age  = int(input('Enter your age: '))\n",
    "result = 'You are eligible for voting' if age >=18 else 'you are not eligible'"
   ]
  },
  {
   "cell_type": "code",
   "execution_count": null,
   "id": "bac695a1",
   "metadata": {},
   "outputs": [],
   "source": [
    "print(result)"
   ]
  },
  {
   "cell_type": "markdown",
   "id": "d9783cf1",
   "metadata": {},
   "source": [
    "# looping statements"
   ]
  },
  {
   "cell_type": "code",
   "execution_count": null,
   "id": "bada1404",
   "metadata": {},
   "outputs": [],
   "source": [
    "For loop-->\n",
    "\n",
    "for i in range(0,10):\n",
    "    statements"
   ]
  },
  {
   "cell_type": "code",
   "execution_count": null,
   "id": "bb2ad485",
   "metadata": {},
   "outputs": [],
   "source": [
    "range(0,10)"
   ]
  },
  {
   "cell_type": "code",
   "execution_count": null,
   "id": "4778aa0d",
   "metadata": {},
   "outputs": [],
   "source": [
    "for i in range(0,10):\n",
    "    print(i)"
   ]
  },
  {
   "cell_type": "code",
   "execution_count": null,
   "id": "14bd9721",
   "metadata": {},
   "outputs": [],
   "source": [
    "for i in range(0,11):\n",
    "    print(i)"
   ]
  },
  {
   "cell_type": "code",
   "execution_count": null,
   "id": "79888aed",
   "metadata": {},
   "outputs": [],
   "source": [
    "for i in range(0,10,3):\n",
    "    print(i)"
   ]
  },
  {
   "cell_type": "code",
   "execution_count": 1,
   "id": "b4e15494",
   "metadata": {},
   "outputs": [],
   "source": [
    "Data = [10,20,50,70,80,30]\n",
    "Tuple_data = (50,60,70,80,13)\n",
    "Set_data = {12,15,16,17,18,19}\n",
    "students_name = ['Prajwal','juhaib','aryan','ram','pyarellall','binit','venkatesh','tej','rajshri','tanuja','akankshya','sandhya']"
   ]
  },
  {
   "cell_type": "code",
   "execution_count": null,
   "id": "d5dbe4be",
   "metadata": {},
   "outputs": [],
   "source": [
    "for i in Data:\n",
    "    print(i * 2)"
   ]
  },
  {
   "cell_type": "code",
   "execution_count": null,
   "id": "dd4e6857",
   "metadata": {},
   "outputs": [],
   "source": [
    "for i in Tuple_data:\n",
    "    print(i)"
   ]
  },
  {
   "cell_type": "code",
   "execution_count": null,
   "id": "97b005d8",
   "metadata": {},
   "outputs": [],
   "source": [
    "for i in Set_data:\n",
    "    print(i)"
   ]
  },
  {
   "cell_type": "code",
   "execution_count": null,
   "id": "c5e6dc82",
   "metadata": {},
   "outputs": [],
   "source": [
    "for i in students_name:\n",
    "    print(i.lower())"
   ]
  },
  {
   "cell_type": "code",
   "execution_count": null,
   "id": "cc813503",
   "metadata": {},
   "outputs": [],
   "source": [
    "for i in students_name:\n",
    "    if 'binit' in students_name:\n",
    "        print(i)\n",
    "    else:\n",
    "        break"
   ]
  },
  {
   "cell_type": "code",
   "execution_count": null,
   "id": "5ab1c7a6",
   "metadata": {},
   "outputs": [],
   "source": [
    "'binit' not in students_name"
   ]
  },
  {
   "cell_type": "code",
   "execution_count": null,
   "id": "2e6bdcca",
   "metadata": {},
   "outputs": [],
   "source": [
    "for i in students_name:\n",
    "    if 'binit' not in students_name:\n",
    "        print('binit is in the students name')\n",
    "    else:\n",
    "        print(i)\n",
    "        break"
   ]
  },
  {
   "cell_type": "code",
   "execution_count": null,
   "id": "6efab276",
   "metadata": {},
   "outputs": [],
   "source": [
    "for i in students_name:\n",
    "    if 'binit' == i:\n",
    "        break\n",
    "    print(i)"
   ]
  },
  {
   "cell_type": "code",
   "execution_count": null,
   "id": "ff78688a",
   "metadata": {},
   "outputs": [],
   "source": [
    "Data = [10,20,50,70,80,30] # if i is 70 break the loop"
   ]
  },
  {
   "cell_type": "code",
   "execution_count": null,
   "id": "3bb0f633",
   "metadata": {},
   "outputs": [],
   "source": [
    "for i in Data:\n",
    "    if i == 70:\n",
    "        break\n",
    "    print(i)"
   ]
  },
  {
   "cell_type": "code",
   "execution_count": null,
   "id": "f600e525",
   "metadata": {},
   "outputs": [],
   "source": [
    "for i in Data:\n",
    "    if i == 70:\n",
    "        i = i+10\n",
    "        print(i)\n",
    "        continue\n",
    "    print(i)"
   ]
  },
  {
   "cell_type": "code",
   "execution_count": null,
   "id": "31ab27b8",
   "metadata": {},
   "outputs": [],
   "source": [
    "students_name"
   ]
  },
  {
   "cell_type": "code",
   "execution_count": 3,
   "id": "8428bf1f",
   "metadata": {
    "collapsed": true
   },
   "outputs": [
    {
     "name": "stdout",
     "output_type": "stream",
     "text": [
      "Prajwal\n",
      "juhaib\n",
      "aryan\n",
      "pyarellall\n",
      "binit\n",
      "venkatesh\n",
      "tej\n",
      "rajshri\n",
      "tanuja\n",
      "akankshya\n",
      "sandhya\n",
      "RAM\n"
     ]
    }
   ],
   "source": [
    "for i in students_name:\n",
    "    if i == 'ram':\n",
    "        students_name.remove('ram')\n",
    "        students_name.append('RAM')\n",
    "    print(i)"
   ]
  },
  {
   "cell_type": "code",
   "execution_count": 5,
   "id": "5aae0723",
   "metadata": {},
   "outputs": [
    {
     "name": "stdout",
     "output_type": "stream",
     "text": [
      "['Prajwal', 'juhaib', 'aryan', 'pyarellall', 'binit', 'venkatesh', 'tej', 'rajshri', 'tanuja', 'akankshya', 'sandhya', 'RAM']\n"
     ]
    }
   ],
   "source": [
    "print(students_name)"
   ]
  },
  {
   "cell_type": "code",
   "execution_count": 12,
   "id": "64918d1b",
   "metadata": {
    "collapsed": true
   },
   "outputs": [
    {
     "name": "stdout",
     "output_type": "stream",
     "text": [
      "0\n",
      "1\n",
      "2\n",
      "3\n",
      "4\n",
      "5\n"
     ]
    }
   ],
   "source": [
    "for i in range(0,6):\n",
    "    if i == 3:\n",
    "        pass\n",
    "    print(i)"
   ]
  },
  {
   "cell_type": "code",
   "execution_count": 7,
   "id": "f3318b5e",
   "metadata": {
    "collapsed": true
   },
   "outputs": [
    {
     "name": "stdout",
     "output_type": "stream",
     "text": [
      "Prajwal\n",
      "juhaib\n",
      "aryan\n",
      "pyarellall\n",
      "binit\n",
      "venkatesh\n",
      "tej\n",
      "rajshri\n",
      "tanuja\n",
      "akankshya\n",
      "sandhya\n",
      "RAM\n"
     ]
    }
   ],
   "source": [
    "# pass\n",
    "for i in students_name:\n",
    "    if i == 'aryan':\n",
    "        pass\n",
    "    print(i)"
   ]
  },
  {
   "cell_type": "code",
   "execution_count": 8,
   "id": "44d5202c",
   "metadata": {},
   "outputs": [
    {
     "name": "stdout",
     "output_type": "stream",
     "text": [
      "aryan\n"
     ]
    }
   ],
   "source": [
    "for i in students_name:\n",
    "    if i == 'aryan':\n",
    "        pass\n",
    "        print(i)"
   ]
  },
  {
   "cell_type": "code",
   "execution_count": 331,
   "id": "3b4b5627",
   "metadata": {},
   "outputs": [
    {
     "data": {
      "text/plain": [
       "[{'name': 'Ram',\n",
       "  'age': 30,\n",
       "  'course': ['DS', 'Stat', 'AWS'],\n",
       "  'marks': [80, 90, 60]},\n",
       " {'name': 'Sam',\n",
       "  'age': 37,\n",
       "  'course': ['DS', 'Stat', 'AWS'],\n",
       "  'marks': [80, 95, 69]}]"
      ]
     },
     "execution_count": 331,
     "metadata": {},
     "output_type": "execute_result"
    }
   ],
   "source": [
    "students_details"
   ]
  },
  {
   "cell_type": "code",
   "execution_count": 341,
   "id": "dc531030",
   "metadata": {},
   "outputs": [
    {
     "name": "stdout",
     "output_type": "stream",
     "text": [
      "Ram: 76.67: B grade\n",
      "Sam: 81.33: B grade\n"
     ]
    }
   ],
   "source": [
    "for i in students_details:\n",
    "    names = i['name']\n",
    "    avg_marks = round(sum(i['marks'])/len(i['marks']),2)\n",
    "    if avg_marks >=90:\n",
    "        grade = 'A grade'\n",
    "        print(names,avg_marks,grade, sep=': ')\n",
    "    elif avg_marks <90 and avg_marks >=70:\n",
    "        grade = 'B grade'\n",
    "        print(names,avg_marks,grade, sep=': ')\n",
    "    elif avg_marks < 70 and avg_marks >=50:\n",
    "        grade = 'C grade'\n",
    "        print(names,avg_marks,grade, sep=': ')\n",
    "    elif avg_marks < 50 and avg_marks >=35:\n",
    "        grade = 'D grade'\n",
    "        print(names,avg_marks,grade, sep=': ')\n",
    "    else:\n",
    "        grade = 'Fail'\n",
    "        print(names,avg_marks,grade, sep=': ') "
   ]
  },
  {
   "cell_type": "code",
   "execution_count": 346,
   "id": "a7afe7ec",
   "metadata": {},
   "outputs": [
    {
     "name": "stdout",
     "output_type": "stream",
     "text": [
      "[1, 2, 3, 4, 5, 6, 7, 8, 9, 10]\n"
     ]
    }
   ],
   "source": [
    "# increament operation\n",
    "add = []\n",
    "for i in range(0,10):\n",
    "    # i = i+1\n",
    "    i+=1\n",
    "    add.append(i)\n",
    "print(add)"
   ]
  },
  {
   "cell_type": "code",
   "execution_count": 348,
   "id": "6319d968",
   "metadata": {},
   "outputs": [
    {
     "name": "stdout",
     "output_type": "stream",
     "text": [
      "[10, 9, 8, 7, 6, 5, 4, 3, 2, 1, 0]\n"
     ]
    }
   ],
   "source": [
    "sub = []\n",
    "for i in range(11,0,-1):\n",
    "    # i = i+1\n",
    "    i-=1\n",
    "    sub.append(i)\n",
    "print(sub)"
   ]
  },
  {
   "cell_type": "code",
   "execution_count": 355,
   "id": "cc1bb9ec",
   "metadata": {},
   "outputs": [
    {
     "name": "stdout",
     "output_type": "stream",
     "text": [
      "5\n"
     ]
    }
   ],
   "source": [
    "# similar to len function\n",
    "\n",
    "data = [10,20,30,40,50]\n",
    "Count = 0\n",
    "for i in data:\n",
    "    Count += 1\n",
    "print(Count)"
   ]
  },
  {
   "cell_type": "code",
   "execution_count": 356,
   "id": "a5754167",
   "metadata": {},
   "outputs": [
    {
     "name": "stdout",
     "output_type": "stream",
     "text": [
      "150\n"
     ]
    }
   ],
   "source": [
    "# sum of the values\n",
    "\n",
    "data = [10,20,30,40,50]\n",
    "summation = 0\n",
    "for i in data:\n",
    "    summation += i\n",
    "print(summation)"
   ]
  },
  {
   "cell_type": "code",
   "execution_count": 357,
   "id": "1f96c30a",
   "metadata": {},
   "outputs": [
    {
     "name": "stdout",
     "output_type": "stream",
     "text": [
      "12000000\n"
     ]
    }
   ],
   "source": [
    "# product of the values\n",
    "data = [10,20,30,40,50]\n",
    "prod = 1\n",
    "for i in data:\n",
    "    prod *= i\n",
    "print(prod)"
   ]
  },
  {
   "cell_type": "code",
   "execution_count": 358,
   "id": "200c4f96",
   "metadata": {},
   "outputs": [
    {
     "data": {
      "text/plain": [
       "55"
      ]
     },
     "execution_count": 358,
     "metadata": {},
     "output_type": "execute_result"
    }
   ],
   "source": [
    "# sum of squared values\n",
    "1**2+2**2+3**2+4**2+5**2"
   ]
  },
  {
   "cell_type": "code",
   "execution_count": 359,
   "id": "259bae8b",
   "metadata": {},
   "outputs": [
    {
     "name": "stdout",
     "output_type": "stream",
     "text": [
      "55\n"
     ]
    }
   ],
   "source": [
    "sum_squared = 0\n",
    "for i in range(1,6):\n",
    "    sum_squared += i ** 2\n",
    "print(sum_squared)"
   ]
  },
  {
   "cell_type": "code",
   "execution_count": null,
   "id": "a983bbd8",
   "metadata": {},
   "outputs": [],
   "source": [
    "# nested loops [patterns]"
   ]
  },
  {
   "cell_type": "code",
   "execution_count": 361,
   "id": "7cf8f8db",
   "metadata": {
    "collapsed": true
   },
   "outputs": [
    {
     "name": "stdout",
     "output_type": "stream",
     "text": [
      "5.5\n",
      "5.6\n",
      "5.9\n",
      "5.8\n",
      "5.7\n",
      "5.9\n",
      "6.5\n",
      "6.8\n",
      "7.1\n",
      "6.3\n",
      "6.4\n",
      "6.6\n",
      "6.4\n",
      "7.1\n",
      "7.8\n",
      "7.5\n",
      "6.9\n",
      "8.1\n",
      "7.5\n",
      "7.9\n"
     ]
    }
   ],
   "source": [
    "students_heights = [[5.5,5.6,5.9,5.8,5.7,5.9],[6.5,6.8,7.1,6.3,6.4,6.6,6.4],[7.1,7.8,7.5,6.9,8.1,7.5,7.9]]\n",
    "for i in students_heights:\n",
    "    for j in i:\n",
    "        print(j)"
   ]
  },
  {
   "cell_type": "code",
   "execution_count": 363,
   "id": "8b9d9258",
   "metadata": {},
   "outputs": [],
   "source": [
    "for i in students_heights:\n",
    "    if type(students_heights) == str:\n",
    "        for j in i:\n",
    "            print(j)"
   ]
  },
  {
   "cell_type": "code",
   "execution_count": 364,
   "id": "27b0c695",
   "metadata": {},
   "outputs": [],
   "source": [
    "DS_students = [{'name': 'Sam',\n",
    " 'age': 37,\n",
    " 'course': ['DS', 'Stat', 'AWS'],\n",
    " 'marks': [80, 95, 69,60]},\n",
    "{'name': None,\n",
    " 'age': 37,\n",
    " 'course': ['DS', 'Stat', 'AWS'],\n",
    " 'marks': [80, 95, 69,70]},\n",
    "{'name': 10,\n",
    " 'age': 37,\n",
    " 'course': ['DS', 'Stat', 'AWS'],\n",
    " 'marks': [80, 95, 69,30]}]"
   ]
  },
  {
   "cell_type": "code",
   "execution_count": 372,
   "id": "71888f98",
   "metadata": {
    "collapsed": true
   },
   "outputs": [
    {
     "name": "stdout",
     "output_type": "stream",
     "text": [
      "('name', 'Sam')\n",
      "('age', 37)\n",
      "('course', ['DS', 'Stat', 'AWS'])\n",
      "('marks', [80, 95, 69, 60])\n"
     ]
    }
   ],
   "source": [
    "for i in DS_students:\n",
    "    if type(i['name']) == str: \n",
    "        for j in i.items():\n",
    "            print(j)"
   ]
  },
  {
   "cell_type": "code",
   "execution_count": 380,
   "id": "0e1e5fca",
   "metadata": {},
   "outputs": [
    {
     "name": "stdout",
     "output_type": "stream",
     "text": [
      "0 1 2 \n",
      "0 1 2 \n",
      "0 1 2 \n",
      "0 1 2 \n",
      "0 1 2 \n"
     ]
    }
   ],
   "source": [
    "for i in range(0,5):\n",
    "    for j in range(0,3):\n",
    "        print(j,end = ' ')\n",
    "    print()"
   ]
  },
  {
   "cell_type": "code",
   "execution_count": 390,
   "id": "a6fced51",
   "metadata": {
    "collapsed": true
   },
   "outputs": [
    {
     "name": "stdout",
     "output_type": "stream",
     "text": [
      "1 \n",
      "2 2 \n",
      "3 3 3 \n",
      "4 4 4 4 \n",
      "5 5 5 5 5 \n",
      "6 6 6 6 6 6 \n"
     ]
    }
   ],
   "source": [
    "row = 6\n",
    "for i in range(1,row+1):\n",
    "    for j in range(i):\n",
    "        print(i, end=' ')\n",
    "    print()"
   ]
  },
  {
   "cell_type": "code",
   "execution_count": 392,
   "id": "76c5db45",
   "metadata": {
    "collapsed": true
   },
   "outputs": [
    {
     "name": "stdout",
     "output_type": "stream",
     "text": [
      "0 1 \n",
      "0 1 2 \n",
      "0 1 2 3 \n",
      "0 1 2 3 4 \n",
      "0 1 2 3 4 5 \n",
      "0 1 2 3 4 5 6 \n"
     ]
    }
   ],
   "source": [
    "row = 6\n",
    "for i in range(1,row+1):\n",
    "    for j in range(i+1):\n",
    "        print(j, end=' ')\n",
    "    print()"
   ]
  },
  {
   "cell_type": "code",
   "execution_count": 394,
   "id": "4a35bc86",
   "metadata": {
    "collapsed": true
   },
   "outputs": [
    {
     "name": "stdout",
     "output_type": "stream",
     "text": [
      "# \n",
      "# # \n",
      "# # # \n",
      "# # # # \n",
      "# # # # # \n",
      "# # # # # # \n"
     ]
    }
   ],
   "source": [
    "row = 6\n",
    "for i in range(1,row+1):\n",
    "    for j in range(i):\n",
    "        print('#', end=' ')\n",
    "    print()"
   ]
  },
  {
   "cell_type": "code",
   "execution_count": 395,
   "id": "d659a91d",
   "metadata": {
    "collapsed": true
   },
   "outputs": [
    {
     "name": "stdout",
     "output_type": "stream",
     "text": [
      "# # # # # # \n",
      "# # # # # \n",
      "# # # # \n",
      "# # # \n",
      "# # \n",
      "# \n"
     ]
    }
   ],
   "source": [
    "# reverse trainagle printing.\n",
    "for i in range(row,1 ):\n",
    "    for j in range(i):\n",
    "        print('#', end=' ')\n",
    "    print()"
   ]
  },
  {
   "cell_type": "code",
   "execution_count": 398,
   "id": "c570b313",
   "metadata": {
    "collapsed": true
   },
   "outputs": [
    {
     "name": "stdout",
     "output_type": "stream",
     "text": [
      "# \n",
      "# # \n",
      "# # # \n",
      "# # # # \n",
      "# # # # # \n",
      "# # # # # # \n",
      "# # # # # \n",
      "# # # # \n",
      "# # # \n",
      "# # \n",
      "# \n"
     ]
    }
   ],
   "source": [
    "for i in range(1,row):\n",
    "    for j in range(i):\n",
    "        print('#', end=' ')\n",
    "    print()\n",
    "for i in range(row,0,-1):\n",
    "    for j in range(i):\n",
    "        print('#', end=' ')\n",
    "    print()"
   ]
  },
  {
   "cell_type": "code",
   "execution_count": null,
   "id": "8bf887fa",
   "metadata": {},
   "outputs": [],
   "source": []
  }
 ],
 "metadata": {
  "kernelspec": {
   "display_name": "Python 3 (ipykernel)",
   "language": "python",
   "name": "python3"
  },
  "language_info": {
   "codemirror_mode": {
    "name": "ipython",
    "version": 3
   },
   "file_extension": ".py",
   "mimetype": "text/x-python",
   "name": "python",
   "nbconvert_exporter": "python",
   "pygments_lexer": "ipython3",
   "version": "3.11.5"
  }
 },
 "nbformat": 4,
 "nbformat_minor": 5
}

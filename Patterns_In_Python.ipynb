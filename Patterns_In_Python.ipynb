{
  "nbformat": 4,
  "nbformat_minor": 0,
  "metadata": {
    "colab": {
      "provenance": [],
      "toc_visible": true,
      "authorship_tag": "ABX9TyNjoaxc/S4BehxLJfB3k3WI",
      "include_colab_link": true
    },
    "kernelspec": {
      "name": "python3",
      "display_name": "Python 3"
    },
    "language_info": {
      "name": "python"
    }
  },
  "cells": [
    {
      "cell_type": "markdown",
      "metadata": {
        "id": "view-in-github",
        "colab_type": "text"
      },
      "source": [
        "<a href=\"https://colab.research.google.com/github/varunjanne/python-zero-to-hero/blob/main/Patterns_In_Python.ipynb\" target=\"_parent\"><img src=\"https://colab.research.google.com/assets/colab-badge.svg\" alt=\"Open In Colab\"/></a>"
      ]
    },
    {
      "cell_type": "markdown",
      "source": [
        "## ***Patterns***"
      ],
      "metadata": {
        "id": "L6p-R9xKoEfQ"
      }
    },
    {
      "cell_type": "code",
      "source": [
        "row = 6\n",
        "for i in range(1,row+1):\n",
        "    for j in range(i):\n",
        "        print(i, end=' ')\n",
        "    print()"
      ],
      "metadata": {
        "colab": {
          "base_uri": "https://localhost:8080/"
        },
        "id": "BxPW-Dt2m5FR",
        "outputId": "73457080-04a1-42e7-d743-336c9fbd24cb"
      },
      "execution_count": null,
      "outputs": [
        {
          "output_type": "stream",
          "name": "stdout",
          "text": [
            "1 \n",
            "2 2 \n",
            "3 3 3 \n",
            "4 4 4 4 \n",
            "5 5 5 5 5 \n",
            "6 6 6 6 6 6 \n"
          ]
        }
      ]
    },
    {
      "cell_type": "code",
      "source": [
        "row = 6\n",
        "for i in range(1,row+1):\n",
        "    for j in range(i+1):\n",
        "        print(j, end=' ')\n",
        "    print()"
      ],
      "metadata": {
        "colab": {
          "base_uri": "https://localhost:8080/"
        },
        "id": "fYzX0YAIm7nM",
        "outputId": "16e216b2-153e-4eaa-a5fb-68b416d32e32"
      },
      "execution_count": null,
      "outputs": [
        {
          "output_type": "stream",
          "name": "stdout",
          "text": [
            "0 1 \n",
            "0 1 2 \n",
            "0 1 2 3 \n",
            "0 1 2 3 4 \n",
            "0 1 2 3 4 5 \n",
            "0 1 2 3 4 5 6 \n"
          ]
        }
      ]
    },
    {
      "cell_type": "code",
      "source": [
        "row = 6\n",
        "for i in range(1,row+1):\n",
        "    for j in range(i):\n",
        "        print('#', end=' ')\n",
        "    print()"
      ],
      "metadata": {
        "colab": {
          "base_uri": "https://localhost:8080/"
        },
        "id": "kCRzgzazm7WW",
        "outputId": "3eafb57a-2a40-4fdb-d249-f1134d229830"
      },
      "execution_count": null,
      "outputs": [
        {
          "output_type": "stream",
          "name": "stdout",
          "text": [
            "# \n",
            "# # \n",
            "# # # \n",
            "# # # # \n",
            "# # # # # \n",
            "# # # # # # \n"
          ]
        }
      ]
    },
    {
      "cell_type": "code",
      "source": [
        "# reverse trainagle printing.\n",
        "for i in range(row,1 ):\n",
        "    for j in range(i):\n",
        "        print('#', end=' ')\n",
        "    print()\n",
        "for i in range(1,row):\n",
        "    for j in range(i):\n",
        "        print('#', end=' ')\n",
        "    print()\n",
        "for i in range(row,0,-1):\n",
        "    for j in range(i):\n",
        "        print('#', end=' ')\n",
        "    print()"
      ],
      "metadata": {
        "colab": {
          "base_uri": "https://localhost:8080/"
        },
        "id": "WbpFgHjmnQH-",
        "outputId": "23f9db89-d782-45b2-a1cd-40dbc6f546ec"
      },
      "execution_count": null,
      "outputs": [
        {
          "output_type": "stream",
          "name": "stdout",
          "text": [
            "# \n",
            "# # \n",
            "# # # \n",
            "# # # # \n",
            "# # # # # \n",
            "# # # # # # \n",
            "# # # # # \n",
            "# # # # \n",
            "# # # \n",
            "# # \n",
            "# \n"
          ]
        }
      ]
    },
    {
      "cell_type": "code",
      "source": [
        "i=1\n",
        "while(i<=5):\n",
        "    j=1\n",
        "    while j<=5-i:\n",
        "        print(' ',end='')\n",
        "        j=j+1\n",
        "    k=1\n",
        "    while k<=i:\n",
        "        print('*',end=' ')\n",
        "        k=k+1\n",
        "    print()\n",
        "    i=i+1"
      ],
      "metadata": {
        "colab": {
          "base_uri": "https://localhost:8080/"
        },
        "id": "yDK5RZlAn4je",
        "outputId": "2a6ebee5-0d6a-442a-e244-c91ae275e870"
      },
      "execution_count": null,
      "outputs": [
        {
          "output_type": "stream",
          "name": "stdout",
          "text": [
            "    * \n",
            "   * * \n",
            "  * * * \n",
            " * * * * \n",
            "* * * * * \n"
          ]
        }
      ]
    },
    {
      "cell_type": "code",
      "execution_count": null,
      "metadata": {
        "id": "a1FXreKLunwn",
        "colab": {
          "base_uri": "https://localhost:8080/"
        },
        "outputId": "45c61534-162d-4d0d-f54b-40b94e7e222e"
      },
      "outputs": [
        {
          "output_type": "stream",
          "name": "stdout",
          "text": [
            "* * * * * \n",
            " * * * * \n",
            "  * * * \n",
            "   * * \n",
            "    * \n",
            "     \n"
          ]
        }
      ],
      "source": [
        "i=5\n",
        "while(i>=0):\n",
        "    j=1\n",
        "    while j<=5-i:\n",
        "        print(' ',end='')\n",
        "        j=j+1\n",
        "    k=1\n",
        "    while k<=i:\n",
        "        print('*',end=' ')\n",
        "        k=k+1\n",
        "    print()\n",
        "    i=i-1"
      ]
    },
    {
      "cell_type": "code",
      "source": [
        "i=1\n",
        "while(i<=5):\n",
        "    j=1\n",
        "    while j<=5-i:\n",
        "        print(' ',end='')\n",
        "        j=j+1\n",
        "    k=1\n",
        "    while k<=i:\n",
        "        print('*',end=' ')\n",
        "        k=k+1\n",
        "    print()\n",
        "    i=i+1\n",
        "i=5\n",
        "while(i>=0):\n",
        "    j=1\n",
        "    while j<=5-i:\n",
        "        print(' ',end='')\n",
        "        j=j+1\n",
        "    k=1\n",
        "    while k<=i:\n",
        "        print('*',end=' ')\n",
        "        k=k+1\n",
        "    print()\n",
        "    i=i-1"
      ],
      "metadata": {
        "colab": {
          "base_uri": "https://localhost:8080/"
        },
        "id": "oZ_1vXxEn7sG",
        "outputId": "8839f6b2-efa5-4720-ac15-22cb7ce12dd0"
      },
      "execution_count": null,
      "outputs": [
        {
          "output_type": "stream",
          "name": "stdout",
          "text": [
            "    * \n",
            "   * * \n",
            "  * * * \n",
            " * * * * \n",
            "* * * * * \n",
            "* * * * * \n",
            " * * * * \n",
            "  * * * \n",
            "   * * \n",
            "    * \n",
            "     \n"
          ]
        }
      ]
    },
    {
      "cell_type": "code",
      "source": [],
      "metadata": {
        "id": "VUCjmXSVn-XE"
      },
      "execution_count": null,
      "outputs": []
    }
  ]
}